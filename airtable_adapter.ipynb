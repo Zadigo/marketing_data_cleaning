{
 "cells": [
  {
   "cell_type": "markdown",
   "metadata": {},
   "source": [
    "# Airtable adapter\n",
    "Adapts a Dropcontact adapated CSV filed by cleaning and correcting the column names so that it can be uploaded to an Airtable base"
   ]
  },
  {
   "cell_type": "code",
   "execution_count": 23,
   "metadata": {},
   "outputs": [],
   "source": [
    "import pandas\n",
    "import pathlib\n",
    "import re\n",
    "from marketing_data_cleaning import DATA_FOLDER_PATH"
   ]
  },
  {
   "cell_type": "code",
   "execution_count": 24,
   "metadata": {},
   "outputs": [],
   "source": [
    "df = pandas.read_csv(DATA_FOLDER_PATH / 'clean_linkedin_preview_profiles.csv')\n"
   ]
  },
  {
   "cell_type": "code",
   "execution_count": 25,
   "metadata": {},
   "outputs": [],
   "source": [
    "COLUMNS_TO_ADAPT = {\n",
    "    'linkedin': 'LinkedIn',\n",
    "    'first_name': 'Prénom',\n",
    "    'last_name': 'Nom',\n",
    "    'full_name': 'Nom complet',\n",
    "    'position': 'Poste',\n",
    "    'company': 'Entreprise',\n",
    "    'company_linkedin': 'Company LinkedIn',\n",
    "    'enriched': 'Statut enrichissement',\n",
    "    'email': 'Email',\n",
    "    'website': 'Site entreprise'\n",
    "}\n",
    "df = df.rename(columns=COLUMNS_TO_ADAPT)"
   ]
  },
  {
   "cell_type": "code",
   "execution_count": 26,
   "metadata": {},
   "outputs": [
    {
     "data": {
      "text/plain": [
       "'db/V2.csv'"
      ]
     },
     "execution_count": 26,
     "metadata": {},
     "output_type": "execute_result"
    }
   ],
   "source": [
    "csv_files = list(pathlib.Path('data/db/').glob('**/*.csv'))\n",
    "last_file = csv_files[0].stem\n",
    "number = re.search(r'(\\d+)', last_file).group(1)\n",
    "file_name = f'db/V{int(number) + 1}'\n",
    "file_name\n"
   ]
  },
  {
   "cell_type": "code",
   "execution_count": 27,
   "metadata": {},
   "outputs": [],
   "source": [
    "df.to_csv(DATA_FOLDER_PATH / f'{file_name}.csv', encoding='utf-8', index=False)"
   ]
  }
 ],
 "metadata": {
  "kernelspec": {
   "display_name": "Python 3",
   "language": "python",
   "name": "python3"
  },
  "language_info": {
   "codemirror_mode": {
    "name": "ipython",
    "version": 3
   },
   "file_extension": ".py",
   "mimetype": "text/x-python",
   "name": "python",
   "nbconvert_exporter": "python",
   "pygments_lexer": "ipython3",
   "version": "3.11.1"
  },
  "orig_nbformat": 4
 },
 "nbformat": 4,
 "nbformat_minor": 2
}
