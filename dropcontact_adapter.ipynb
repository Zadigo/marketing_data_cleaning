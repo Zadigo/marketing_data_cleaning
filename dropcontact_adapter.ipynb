{
 "cells": [
  {
   "cell_type": "markdown",
   "metadata": {},
   "source": [
    "# Dropcontact adapter\n",
    "Adapts a given file by cleaning and correcting the column names so that it can be used with \"Dropcontact\". All the default fields are implemented in the dataframe"
   ]
  },
  {
   "cell_type": "code",
   "execution_count": 69,
   "metadata": {},
   "outputs": [],
   "source": [
    "import pandas\n",
    "from marketing_data_cleaning import BASE_COLUMNS, DATA_FOLDER_PATH\n",
    "from urllib.parse import urlparse, urlunparse\n",
    "\n"
   ]
  },
  {
   "cell_type": "code",
   "execution_count": 70,
   "metadata": {},
   "outputs": [],
   "source": [
    "COLUMNS_TO_KEEP = ['linkedin', 'noms', 'poste']\n",
    "\n",
    "df = pandas.read_csv(DATA_FOLDER_PATH / 'cto_linkedin_profiles.csv', encoding='utf-8')\n",
    "df = df[COLUMNS_TO_KEEP]\n"
   ]
  },
  {
   "cell_type": "code",
   "execution_count": 71,
   "metadata": {},
   "outputs": [],
   "source": [
    "def clean_urls(value):\n",
    "    url = urlparse(str(value))\n",
    "    return urlunparse((url.scheme, url.netloc, url.path, None, None, None))\n",
    "\n",
    "df['linkedin'] = df['linkedin'].apply(clean_urls)"
   ]
  },
  {
   "cell_type": "code",
   "execution_count": 72,
   "metadata": {},
   "outputs": [],
   "source": [
    "df = df.rename(columns={'noms': 'full_name', 'poste': 'position'})"
   ]
  },
  {
   "cell_type": "code",
   "execution_count": 73,
   "metadata": {},
   "outputs": [
    {
     "data": {
      "text/plain": [
       "count                                                  2127\n",
       "unique                                                 2126\n",
       "top       https://www.linkedin.com/in/philippe-laurent-7...\n",
       "freq                                                      2\n",
       "Name: linkedin, dtype: object"
      ]
     },
     "execution_count": 73,
     "metadata": {},
     "output_type": "execute_result"
    }
   ],
   "source": [
    "df['linkedin'].describe()"
   ]
  },
  {
   "cell_type": "markdown",
   "metadata": {},
   "source": [
    "## Add missing columns\n",
    "Include the missing columns to the dataframe"
   ]
  },
  {
   "cell_type": "code",
   "execution_count": 74,
   "metadata": {},
   "outputs": [],
   "source": [
    "current_columns = set(df.columns)\n",
    "missing_columns = BASE_COLUMNS.difference(current_columns)\n",
    "\n",
    "for column in missing_columns:\n",
    "    df[column] = None"
   ]
  },
  {
   "cell_type": "markdown",
   "metadata": {},
   "source": [
    "## Clean values\n",
    "\n",
    "__firstname__ and __lastname__ should be title cased in the same was as __position__."
   ]
  },
  {
   "cell_type": "code",
   "execution_count": 75,
   "metadata": {},
   "outputs": [],
   "source": [
    "def set_firstname(value):\n",
    "    result = str(value).split(' ')[0]\n",
    "    return result.lower().title()\n",
    "\n",
    "\n",
    "def set_lastname(value):\n",
    "    result = str(value).split(' ')[-1]\n",
    "    return result.lower().title()\n",
    "\n",
    "\n",
    "df['first_name'] = df['full_name'].apply(set_firstname)\n",
    "df['last_name'] = df['full_name'].apply(set_lastname)"
   ]
  },
  {
   "cell_type": "markdown",
   "metadata": {},
   "source": [
    "Make sure that the __fullname__ is also title cased and stripped"
   ]
  },
  {
   "cell_type": "code",
   "execution_count": 76,
   "metadata": {},
   "outputs": [],
   "source": [
    "def clean_position(value):\n",
    "    return str(value).lower().title()\n",
    "\n",
    "def clean_fullname(value):\n",
    "    return str(value).lower().title()\n",
    "\n",
    "df['position'] = df['position'].apply(clean_position)\n",
    "df['full_name'] = df['full_name'].apply(clean_fullname)"
   ]
  },
  {
   "cell_type": "code",
   "execution_count": 77,
   "metadata": {},
   "outputs": [],
   "source": [
    "df.to_csv(DATA_FOLDER_PATH / 'cto.csv', encoding='utf-8', index=False)"
   ]
  }
 ],
 "metadata": {
  "kernelspec": {
   "display_name": "Python 3",
   "language": "python",
   "name": "python3"
  },
  "language_info": {
   "codemirror_mode": {
    "name": "ipython",
    "version": 3
   },
   "file_extension": ".py",
   "mimetype": "text/x-python",
   "name": "python",
   "nbconvert_exporter": "python",
   "pygments_lexer": "ipython3",
   "version": "3.11.1"
  },
  "orig_nbformat": 4
 },
 "nbformat": 4,
 "nbformat_minor": 2
}
