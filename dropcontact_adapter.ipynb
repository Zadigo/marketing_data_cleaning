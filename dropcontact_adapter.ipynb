{
 "cells": [
  {
   "cell_type": "markdown",
   "metadata": {},
   "source": [
    "# Dropcontact adapter\n",
    "Adapts a given CSV file by cleaning and correcting the column names so that it can be used with \"Dropcontact\". All the default fields are implemented in the dataframe. This file should be run first in order to enrich the data from the file."
   ]
  },
  {
   "cell_type": "code",
   "execution_count": 34,
   "metadata": {},
   "outputs": [],
   "source": [
    "import pandas\n",
    "from marketing_data_cleaning import BASE_COLUMNS, DATA_FOLDER_PATH\n",
    "from urllib.parse import urlparse, urlunparse\n",
    "\n"
   ]
  },
  {
   "cell_type": "code",
   "execution_count": 35,
   "metadata": {},
   "outputs": [],
   "source": [
    "COLUMNS_TO_KEEP = []\n",
    "\n",
    "FILENAME = 'adapt_to_dropcontact'\n",
    "\n",
    "df = pandas.read_csv(DATA_FOLDER_PATH / f'inputs/{FILENAME}.csv', encoding='utf-8')\n",
    "\n",
    "if COLUMNS_TO_KEEP:\n",
    "    df = df[COLUMNS_TO_KEEP]"
   ]
  },
  {
   "cell_type": "code",
   "execution_count": 36,
   "metadata": {},
   "outputs": [],
   "source": [
    "def clean_urls(value):\n",
    "    url = urlparse(str(value))\n",
    "    if url.scheme == '':\n",
    "        return None\n",
    "    return urlunparse((url.scheme, url.netloc, url.path, None, None, None))\n",
    "\n",
    "df['linkedin'] = df['linkedin'].apply(clean_urls)"
   ]
  },
  {
   "cell_type": "code",
   "execution_count": 37,
   "metadata": {},
   "outputs": [],
   "source": [
    "df = df.rename(columns={'site': 'website', 'entreprise': 'company'})"
   ]
  },
  {
   "cell_type": "code",
   "execution_count": 38,
   "metadata": {},
   "outputs": [
    {
     "data": {
      "text/plain": [
       "count                                          786\n",
       "unique                                         729\n",
       "top       https://fr.linkedin.com/in/clementcachot\n",
       "freq                                             4\n",
       "Name: linkedin, dtype: object"
      ]
     },
     "execution_count": 38,
     "metadata": {},
     "output_type": "execute_result"
    }
   ],
   "source": [
    "df['linkedin'].describe()"
   ]
  },
  {
   "cell_type": "markdown",
   "metadata": {},
   "source": [
    "## Add missing columns\n",
    "Include the missing columns to the dataframe"
   ]
  },
  {
   "cell_type": "code",
   "execution_count": 39,
   "metadata": {},
   "outputs": [
    {
     "data": {
      "text/plain": [
       "{'company_linkedin', 'enriched', 'first_name', 'last_name', 'website'}"
      ]
     },
     "execution_count": 39,
     "metadata": {},
     "output_type": "execute_result"
    }
   ],
   "source": [
    "current_columns = set(df.columns)\n",
    "missing_columns = BASE_COLUMNS.difference(current_columns)\n",
    "\n",
    "for column in missing_columns:\n",
    "    df[column] = None\n",
    "    \n",
    "missing_columns"
   ]
  },
  {
   "cell_type": "markdown",
   "metadata": {},
   "source": [
    "## Clean values\n",
    "\n",
    "__firstname__ and __lastname__ should be title cased in the same was as __position__."
   ]
  },
  {
   "cell_type": "code",
   "execution_count": 40,
   "metadata": {},
   "outputs": [],
   "source": [
    "def set_firstname(value):\n",
    "    if value is None:\n",
    "        return None\n",
    "    result = str(value).strip().split(' ')[0]\n",
    "    return result.lower().title()\n",
    "\n",
    "\n",
    "def set_lastname(value):\n",
    "    if value is None:\n",
    "        return None\n",
    "    result = str(value).strip().split(' ')[-1]\n",
    "    return result.lower().title()\n",
    "\n",
    "\n",
    "df['first_name'] = df['full_name'].apply(set_firstname)\n",
    "df['last_name'] = df['full_name'].apply(set_lastname)"
   ]
  },
  {
   "cell_type": "markdown",
   "metadata": {},
   "source": [
    "Make sure that the __fullname__ is also title cased and stripped"
   ]
  },
  {
   "cell_type": "code",
   "execution_count": 41,
   "metadata": {},
   "outputs": [],
   "source": [
    "def clean_position(value):\n",
    "    if value is None:\n",
    "        return None\n",
    "    return str(value).strip().lower().title()\n",
    "\n",
    "def clean_fullname(value):\n",
    "    if value is None:\n",
    "        return None\n",
    "    return str(value).strip().lower().title()\n",
    "\n",
    "df['position'] = df['position'].apply(clean_position)\n",
    "df['full_name'] = df['full_name'].apply(clean_fullname)"
   ]
  },
  {
   "cell_type": "code",
   "execution_count": 42,
   "metadata": {},
   "outputs": [],
   "source": [
    "df = df[list(BASE_COLUMNS)]\n"
   ]
  },
  {
   "cell_type": "code",
   "execution_count": 43,
   "metadata": {},
   "outputs": [],
   "source": [
    "df.to_csv(\n",
    "    DATA_FOLDER_PATH / 'clean_linkedin_preview_profiles.csv',\n",
    "    encoding='utf-8', \n",
    "    index=False\n",
    ")\n"
   ]
  }
 ],
 "metadata": {
  "kernelspec": {
   "display_name": "Python 3",
   "language": "python",
   "name": "python3"
  },
  "language_info": {
   "codemirror_mode": {
    "name": "ipython",
    "version": 3
   },
   "file_extension": ".py",
   "mimetype": "text/x-python",
   "name": "python",
   "nbconvert_exporter": "python",
   "pygments_lexer": "ipython3",
   "version": "3.11.0"
  },
  "orig_nbformat": 4
 },
 "nbformat": 4,
 "nbformat_minor": 2
}
