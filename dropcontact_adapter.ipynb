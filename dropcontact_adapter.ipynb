{
 "cells": [
  {
   "cell_type": "markdown",
   "metadata": {},
   "source": [
    "# Dropcontact adapter\n",
    "Adapts a given CSV file by cleaning and correcting the column names so that it can be used with \"Dropcontact\". All the default fields are implemented in the dataframe"
   ]
  },
  {
   "cell_type": "code",
   "execution_count": 121,
   "metadata": {},
   "outputs": [],
   "source": [
    "import pandas\n",
    "from marketing_data_cleaning import BASE_COLUMNS, DATA_FOLDER_PATH\n",
    "from urllib.parse import urlparse, urlunparse\n",
    "\n"
   ]
  },
  {
   "cell_type": "code",
   "execution_count": 122,
   "metadata": {},
   "outputs": [],
   "source": [
    "COLUMNS_TO_KEEP = []\n",
    "\n",
    "FILENAME = 'adapt_to_dropcontact'\n",
    "\n",
    "df = pandas.read_csv(DATA_FOLDER_PATH / f'inputs/{FILENAME}.csv', encoding='utf-8', sep=';')\n",
    "\n",
    "if COLUMNS_TO_KEEP:\n",
    "    df = df[COLUMNS_TO_KEEP]"
   ]
  },
  {
   "cell_type": "code",
   "execution_count": 123,
   "metadata": {},
   "outputs": [],
   "source": [
    "def clean_urls(value):\n",
    "    url = urlparse(str(value))\n",
    "    if url.scheme == '':\n",
    "        return None\n",
    "    return urlunparse((url.scheme, url.netloc, url.path, None, None, None))\n",
    "\n",
    "df['linkedin'] = df['linkedin'].apply(clean_urls)"
   ]
  },
  {
   "cell_type": "code",
   "execution_count": 124,
   "metadata": {},
   "outputs": [],
   "source": [
    "df = df.rename(columns={'site': 'website', 'entreprise': 'company'})"
   ]
  },
  {
   "cell_type": "code",
   "execution_count": 125,
   "metadata": {},
   "outputs": [
    {
     "data": {
      "text/plain": [
       "count       0\n",
       "unique      0\n",
       "top       NaN\n",
       "freq      NaN\n",
       "Name: linkedin, dtype: object"
      ]
     },
     "execution_count": 125,
     "metadata": {},
     "output_type": "execute_result"
    }
   ],
   "source": [
    "df['linkedin'].describe()"
   ]
  },
  {
   "cell_type": "markdown",
   "metadata": {},
   "source": [
    "## Add missing columns\n",
    "Include the missing columns to the dataframe"
   ]
  },
  {
   "cell_type": "code",
   "execution_count": 126,
   "metadata": {},
   "outputs": [
    {
     "data": {
      "text/plain": [
       "{'company_linkedin', 'enriched', 'position'}"
      ]
     },
     "execution_count": 126,
     "metadata": {},
     "output_type": "execute_result"
    }
   ],
   "source": [
    "current_columns = set(df.columns)\n",
    "missing_columns = BASE_COLUMNS.difference(current_columns)\n",
    "\n",
    "for column in missing_columns:\n",
    "    df[column] = None\n",
    "    \n",
    "missing_columns"
   ]
  },
  {
   "cell_type": "markdown",
   "metadata": {},
   "source": [
    "## Clean values\n",
    "\n",
    "__firstname__ and __lastname__ should be title cased in the same was as __position__."
   ]
  },
  {
   "cell_type": "code",
   "execution_count": 127,
   "metadata": {},
   "outputs": [],
   "source": [
    "def set_firstname(value):\n",
    "    if value is None:\n",
    "        return None\n",
    "    result = str(value).split(' ')[0]\n",
    "    return result.lower().title()\n",
    "\n",
    "\n",
    "def set_lastname(value):\n",
    "    if value is None:\n",
    "        return None\n",
    "    result = str(value).split(' ')[-1]\n",
    "    return result.lower().title()\n",
    "\n",
    "\n",
    "df['first_name'] = df['full_name'].apply(set_firstname)\n",
    "df['last_name'] = df['full_name'].apply(set_lastname)"
   ]
  },
  {
   "cell_type": "markdown",
   "metadata": {},
   "source": [
    "Make sure that the __fullname__ is also title cased and stripped"
   ]
  },
  {
   "cell_type": "code",
   "execution_count": 128,
   "metadata": {},
   "outputs": [],
   "source": [
    "def clean_position(value):\n",
    "    if value is None:\n",
    "        return None\n",
    "    return str(value).lower().title()\n",
    "\n",
    "def clean_fullname(value):\n",
    "    if value is None:\n",
    "        return None\n",
    "    return str(value).lower().title()\n",
    "\n",
    "df['position'] = df['position'].apply(clean_position)\n",
    "df['full_name'] = df['full_name'].apply(clean_fullname)"
   ]
  },
  {
   "cell_type": "code",
   "execution_count": 129,
   "metadata": {},
   "outputs": [
    {
     "data": {
      "text/html": [
       "<div>\n",
       "<style scoped>\n",
       "    .dataframe tbody tr th:only-of-type {\n",
       "        vertical-align: middle;\n",
       "    }\n",
       "\n",
       "    .dataframe tbody tr th {\n",
       "        vertical-align: top;\n",
       "    }\n",
       "\n",
       "    .dataframe thead th {\n",
       "        text-align: right;\n",
       "    }\n",
       "</style>\n",
       "<table border=\"1\" class=\"dataframe\">\n",
       "  <thead>\n",
       "    <tr style=\"text-align: right;\">\n",
       "      <th></th>\n",
       "      <th>first_name</th>\n",
       "      <th>last_name</th>\n",
       "      <th>full_name</th>\n",
       "      <th>email</th>\n",
       "      <th>company</th>\n",
       "      <th>website</th>\n",
       "      <th>linkedin</th>\n",
       "      <th>enriched</th>\n",
       "      <th>company_linkedin</th>\n",
       "      <th>position</th>\n",
       "    </tr>\n",
       "  </thead>\n",
       "  <tbody>\n",
       "    <tr>\n",
       "      <th>0</th>\n",
       "      <td></td>\n",
       "      <td></td>\n",
       "      <td></td>\n",
       "      <td>4.bi@orange.fr</td>\n",
       "      <td>NaN</td>\n",
       "      <td>NaN</td>\n",
       "      <td>None</td>\n",
       "      <td>None</td>\n",
       "      <td>None</td>\n",
       "      <td>None</td>\n",
       "    </tr>\n",
       "    <tr>\n",
       "      <th>1</th>\n",
       "      <td>Aude</td>\n",
       "      <td>Guilbon</td>\n",
       "      <td>Aude Guilbon</td>\n",
       "      <td>a-guilbon@neoform.fr</td>\n",
       "      <td>NaN</td>\n",
       "      <td>NaN</td>\n",
       "      <td>None</td>\n",
       "      <td>None</td>\n",
       "      <td>None</td>\n",
       "      <td>None</td>\n",
       "    </tr>\n",
       "    <tr>\n",
       "      <th>2</th>\n",
       "      <td>Aline</td>\n",
       "      <td>Aledo</td>\n",
       "      <td>Aline Aledo</td>\n",
       "      <td>a.aledo@domespharma.com</td>\n",
       "      <td>NaN</td>\n",
       "      <td>NaN</td>\n",
       "      <td>None</td>\n",
       "      <td>None</td>\n",
       "      <td>None</td>\n",
       "      <td>None</td>\n",
       "    </tr>\n",
       "    <tr>\n",
       "      <th>3</th>\n",
       "      <td>Anne</td>\n",
       "      <td>Badea</td>\n",
       "      <td>Anne Badea</td>\n",
       "      <td>a.badea@dargaud.fr</td>\n",
       "      <td>NaN</td>\n",
       "      <td>NaN</td>\n",
       "      <td>None</td>\n",
       "      <td>None</td>\n",
       "      <td>None</td>\n",
       "      <td>None</td>\n",
       "    </tr>\n",
       "    <tr>\n",
       "      <th>4</th>\n",
       "      <td>Arnaud</td>\n",
       "      <td>Ballet</td>\n",
       "      <td>Arnaud Ballet</td>\n",
       "      <td>a.ballet@cr-auvergne.fr</td>\n",
       "      <td>NaN</td>\n",
       "      <td>NaN</td>\n",
       "      <td>None</td>\n",
       "      <td>None</td>\n",
       "      <td>None</td>\n",
       "      <td>None</td>\n",
       "    </tr>\n",
       "  </tbody>\n",
       "</table>\n",
       "</div>"
      ],
      "text/plain": [
       "  first_name last_name      full_name                    email  company  \\\n",
       "0                                               4.bi@orange.fr      NaN   \n",
       "1       Aude   Guilbon   Aude Guilbon     a-guilbon@neoform.fr      NaN   \n",
       "2      Aline     Aledo    Aline Aledo  a.aledo@domespharma.com      NaN   \n",
       "3       Anne     Badea     Anne Badea       a.badea@dargaud.fr      NaN   \n",
       "4     Arnaud    Ballet  Arnaud Ballet  a.ballet@cr-auvergne.fr      NaN   \n",
       "\n",
       "   website linkedin enriched company_linkedin position  \n",
       "0      NaN     None     None             None     None  \n",
       "1      NaN     None     None             None     None  \n",
       "2      NaN     None     None             None     None  \n",
       "3      NaN     None     None             None     None  \n",
       "4      NaN     None     None             None     None  "
      ]
     },
     "execution_count": 129,
     "metadata": {},
     "output_type": "execute_result"
    }
   ],
   "source": [
    "df.head()"
   ]
  },
  {
   "cell_type": "code",
   "execution_count": 130,
   "metadata": {},
   "outputs": [],
   "source": [
    "df.to_csv(\n",
    "    DATA_FOLDER_PATH / 'clean_linkedin_preview_profiles.csv',\n",
    "    encoding='utf-8', \n",
    "    index=False\n",
    ")\n"
   ]
  }
 ],
 "metadata": {
  "kernelspec": {
   "display_name": "Python 3",
   "language": "python",
   "name": "python3"
  },
  "language_info": {
   "codemirror_mode": {
    "name": "ipython",
    "version": 3
   },
   "file_extension": ".py",
   "mimetype": "text/x-python",
   "name": "python",
   "nbconvert_exporter": "python",
   "pygments_lexer": "ipython3",
   "version": "3.11.1"
  },
  "orig_nbformat": 4
 },
 "nbformat": 4,
 "nbformat_minor": 2
}
