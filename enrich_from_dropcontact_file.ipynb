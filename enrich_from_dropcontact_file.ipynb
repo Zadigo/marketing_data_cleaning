{
 "cells": [
  {
   "cell_type": "markdown",
   "metadata": {},
   "source": [
    "## Enrich from a Dropcontact file\n",
    "Enrich a CSV file from a Dropcontact result file"
   ]
  },
  {
   "cell_type": "code",
   "execution_count": 49,
   "metadata": {},
   "outputs": [],
   "source": [
    "import pandas\n",
    "from marketing_data_cleaning import DATA_FOLDER_PATH"
   ]
  },
  {
   "cell_type": "code",
   "execution_count": 50,
   "metadata": {},
   "outputs": [],
   "source": [
    "enrichment_file = pandas.read_csv(DATA_FOLDER_PATH / 'enrichment.csv', sep=';')"
   ]
  },
  {
   "cell_type": "code",
   "execution_count": 51,
   "metadata": {},
   "outputs": [],
   "source": [
    "file_to_enrich = pandas.read_csv(DATA_FOLDER_PATH / 'db/V2.csv')"
   ]
  },
  {
   "cell_type": "markdown",
   "metadata": {},
   "source": [
    "Only keep some of the columns and also ensure that the columns carry the same column names as the file to enrich"
   ]
  },
  {
   "cell_type": "code",
   "execution_count": 52,
   "metadata": {},
   "outputs": [
    {
     "data": {
      "text/html": [
       "<div>\n",
       "<style scoped>\n",
       "    .dataframe tbody tr th:only-of-type {\n",
       "        vertical-align: middle;\n",
       "    }\n",
       "\n",
       "    .dataframe tbody tr th {\n",
       "        vertical-align: top;\n",
       "    }\n",
       "\n",
       "    .dataframe thead th {\n",
       "        text-align: right;\n",
       "    }\n",
       "</style>\n",
       "<table border=\"1\" class=\"dataframe\">\n",
       "  <thead>\n",
       "    <tr style=\"text-align: right;\">\n",
       "      <th></th>\n",
       "      <th>Nom</th>\n",
       "      <th>Prénom</th>\n",
       "      <th>Email</th>\n",
       "      <th>Company LinkedIn</th>\n",
       "    </tr>\n",
       "  </thead>\n",
       "  <tbody>\n",
       "    <tr>\n",
       "      <th>0</th>\n",
       "      <td>Delcommune</td>\n",
       "      <td>Franck</td>\n",
       "      <td></td>\n",
       "      <td>www.linkedin.com/company/equilis</td>\n",
       "    </tr>\n",
       "    <tr>\n",
       "      <th>1</th>\n",
       "      <td>Cerisier</td>\n",
       "      <td>Jerome</td>\n",
       "      <td>jerome.cerisier@bmstores.fr</td>\n",
       "      <td>www.linkedin.com/company/france-bm</td>\n",
       "    </tr>\n",
       "    <tr>\n",
       "      <th>2</th>\n",
       "      <td>Barbera</td>\n",
       "      <td>Franck</td>\n",
       "      <td>franck.barbera@bmstores.fr</td>\n",
       "      <td>www.linkedin.com/company/france-bm</td>\n",
       "    </tr>\n",
       "    <tr>\n",
       "      <th>3</th>\n",
       "      <td>Rabia</td>\n",
       "      <td>Anis</td>\n",
       "      <td>anis.rabia@bchef.fr</td>\n",
       "      <td>www.linkedin.com/company/bchef</td>\n",
       "    </tr>\n",
       "    <tr>\n",
       "      <th>4</th>\n",
       "      <td>Fel</td>\n",
       "      <td>Elodie</td>\n",
       "      <td></td>\n",
       "      <td>www.linkedin.com/company/bchef</td>\n",
       "    </tr>\n",
       "  </tbody>\n",
       "</table>\n",
       "</div>"
      ],
      "text/plain": [
       "          Nom  Prénom                        Email  \\\n",
       "0  Delcommune  Franck                                \n",
       "1    Cerisier  Jerome  jerome.cerisier@bmstores.fr   \n",
       "2     Barbera  Franck   franck.barbera@bmstores.fr   \n",
       "3       Rabia    Anis          anis.rabia@bchef.fr   \n",
       "4         Fel  Elodie                                \n",
       "\n",
       "                     Company LinkedIn  \n",
       "0    www.linkedin.com/company/equilis  \n",
       "1  www.linkedin.com/company/france-bm  \n",
       "2  www.linkedin.com/company/france-bm  \n",
       "3      www.linkedin.com/company/bchef  \n",
       "4      www.linkedin.com/company/bchef  "
      ]
     },
     "execution_count": 52,
     "metadata": {},
     "output_type": "execute_result"
    }
   ],
   "source": [
    "enrichment_file = enrichment_file[['Nom', 'Prénom', 'Email', 'Company LinkedIn']]\n",
    "enrichment_file.drop_duplicates(inplace=True)\n",
    "enrichment_file.head()"
   ]
  },
  {
   "cell_type": "code",
   "execution_count": 53,
   "metadata": {},
   "outputs": [],
   "source": [
    "enrichment_file = enrichment_file.rename(columns={'nom': 'Nom', 'prenom': 'Prénom'})"
   ]
  },
  {
   "cell_type": "markdown",
   "metadata": {},
   "source": [
    "Keep the values for which we actually do have an email [eventually, consider checking the LinkedIn profile url]"
   ]
  },
  {
   "cell_type": "code",
   "execution_count": 54,
   "metadata": {},
   "outputs": [],
   "source": [
    "# enrichment_file['email_empty'] = enrichment_file['Email'].empty\n",
    "enrichment_file['email_empty'] = enrichment_file['Email'].isna()\n"
   ]
  },
  {
   "cell_type": "code",
   "execution_count": 55,
   "metadata": {},
   "outputs": [],
   "source": [
    "with_emails = enrichment_file[enrichment_file['email_empty'] == False]\n"
   ]
  },
  {
   "cell_type": "markdown",
   "metadata": {},
   "source": [
    "Use the merge technique which will keep all the columns on our base dataframe and will match the values to merge based on the `on` parameter"
   ]
  },
  {
   "cell_type": "code",
   "execution_count": 56,
   "metadata": {},
   "outputs": [
    {
     "data": {
      "text/html": [
       "<div>\n",
       "<style scoped>\n",
       "    .dataframe tbody tr th:only-of-type {\n",
       "        vertical-align: middle;\n",
       "    }\n",
       "\n",
       "    .dataframe tbody tr th {\n",
       "        vertical-align: top;\n",
       "    }\n",
       "\n",
       "    .dataframe thead th {\n",
       "        text-align: right;\n",
       "    }\n",
       "</style>\n",
       "<table border=\"1\" class=\"dataframe\">\n",
       "  <thead>\n",
       "    <tr style=\"text-align: right;\">\n",
       "      <th></th>\n",
       "      <th>Entreprise</th>\n",
       "      <th>Statut enrichissement</th>\n",
       "      <th>LinkedIn</th>\n",
       "      <th>Nom complet</th>\n",
       "      <th>Company LinkedIn_x</th>\n",
       "      <th>Site entreprise</th>\n",
       "      <th>Poste</th>\n",
       "      <th>Prénom_x</th>\n",
       "      <th>Nom</th>\n",
       "      <th>Email_x</th>\n",
       "      <th>Prénom_y</th>\n",
       "      <th>Email_y</th>\n",
       "      <th>Company LinkedIn_y</th>\n",
       "      <th>email_empty</th>\n",
       "    </tr>\n",
       "  </thead>\n",
       "  <tbody>\n",
       "    <tr>\n",
       "      <th>0</th>\n",
       "      <td>Optique Lafayette</td>\n",
       "      <td>Non enrichi</td>\n",
       "      <td>https://www.linkedin.com/in/noemieleho</td>\n",
       "      <td>Noémie Le Ho</td>\n",
       "      <td>https://www.linkedin.com/company/optiquelafaye...</td>\n",
       "      <td>https://www.jeminstalle-optiquelafayette.com</td>\n",
       "      <td>Chargée Marketing et Communication</td>\n",
       "      <td>Noémie</td>\n",
       "      <td>Le Ho</td>\n",
       "      <td>NaN</td>\n",
       "      <td>NaN</td>\n",
       "      <td>NaN</td>\n",
       "      <td>NaN</td>\n",
       "      <td>NaN</td>\n",
       "    </tr>\n",
       "    <tr>\n",
       "      <th>1</th>\n",
       "      <td>Optique Lafayette</td>\n",
       "      <td>Non enrichi</td>\n",
       "      <td>https://www.linkedin.com/in/laura-bernadac-704...</td>\n",
       "      <td>Laura Bernadac</td>\n",
       "      <td>https://www.linkedin.com/company/optiquelafaye...</td>\n",
       "      <td>https://www.jeminstalle-optiquelafayette.com</td>\n",
       "      <td>-Opticienne-</td>\n",
       "      <td>Laura</td>\n",
       "      <td>Bernadac</td>\n",
       "      <td>NaN</td>\n",
       "      <td>NaN</td>\n",
       "      <td>NaN</td>\n",
       "      <td>NaN</td>\n",
       "      <td>NaN</td>\n",
       "    </tr>\n",
       "    <tr>\n",
       "      <th>2</th>\n",
       "      <td>Optique Lafayette</td>\n",
       "      <td>Non enrichi</td>\n",
       "      <td>https://www.linkedin.com/in/julien-berdeil-b75...</td>\n",
       "      <td>Julien Berdeil</td>\n",
       "      <td>https://www.linkedin.com/company/optiquelafaye...</td>\n",
       "      <td>https://www.jeminstalle-optiquelafayette.com</td>\n",
       "      <td>Gérant OPTIQUE LAFAYETTE</td>\n",
       "      <td>Julien</td>\n",
       "      <td>Berdeil</td>\n",
       "      <td>NaN</td>\n",
       "      <td>NaN</td>\n",
       "      <td>NaN</td>\n",
       "      <td>NaN</td>\n",
       "      <td>NaN</td>\n",
       "    </tr>\n",
       "    <tr>\n",
       "      <th>3</th>\n",
       "      <td>Optique Lafayette</td>\n",
       "      <td>Non enrichi</td>\n",
       "      <td>https://www.linkedin.com/in/laurie-blanchard-2...</td>\n",
       "      <td>Laurie Blanchard</td>\n",
       "      <td>https://www.linkedin.com/company/optiquelafaye...</td>\n",
       "      <td>https://www.jeminstalle-optiquelafayette.com</td>\n",
       "      <td>Assistante ADV chez Groupe Lafsanté</td>\n",
       "      <td>Laurie</td>\n",
       "      <td>Blanchard</td>\n",
       "      <td>NaN</td>\n",
       "      <td>NaN</td>\n",
       "      <td>NaN</td>\n",
       "      <td>NaN</td>\n",
       "      <td>NaN</td>\n",
       "    </tr>\n",
       "    <tr>\n",
       "      <th>4</th>\n",
       "      <td>Optique Lafayette</td>\n",
       "      <td>Non enrichi</td>\n",
       "      <td>https://www.linkedin.com/in/gilles-sureau-5666...</td>\n",
       "      <td>Gilles Sureau</td>\n",
       "      <td>https://www.linkedin.com/company/optiquelafaye...</td>\n",
       "      <td>https://www.jeminstalle-optiquelafayette.com</td>\n",
       "      <td>Monteur-vendeur chez le 7 opticien</td>\n",
       "      <td>Gilles</td>\n",
       "      <td>Sureau</td>\n",
       "      <td>NaN</td>\n",
       "      <td>NaN</td>\n",
       "      <td>NaN</td>\n",
       "      <td>NaN</td>\n",
       "      <td>NaN</td>\n",
       "    </tr>\n",
       "  </tbody>\n",
       "</table>\n",
       "</div>"
      ],
      "text/plain": [
       "          Entreprise Statut enrichissement  \\\n",
       "0  Optique Lafayette           Non enrichi   \n",
       "1  Optique Lafayette           Non enrichi   \n",
       "2  Optique Lafayette           Non enrichi   \n",
       "3  Optique Lafayette           Non enrichi   \n",
       "4  Optique Lafayette           Non enrichi   \n",
       "\n",
       "                                            LinkedIn       Nom complet  \\\n",
       "0             https://www.linkedin.com/in/noemieleho      Noémie Le Ho   \n",
       "1  https://www.linkedin.com/in/laura-bernadac-704...    Laura Bernadac   \n",
       "2  https://www.linkedin.com/in/julien-berdeil-b75...    Julien Berdeil   \n",
       "3  https://www.linkedin.com/in/laurie-blanchard-2...  Laurie Blanchard   \n",
       "4  https://www.linkedin.com/in/gilles-sureau-5666...     Gilles Sureau   \n",
       "\n",
       "                                  Company LinkedIn_x  \\\n",
       "0  https://www.linkedin.com/company/optiquelafaye...   \n",
       "1  https://www.linkedin.com/company/optiquelafaye...   \n",
       "2  https://www.linkedin.com/company/optiquelafaye...   \n",
       "3  https://www.linkedin.com/company/optiquelafaye...   \n",
       "4  https://www.linkedin.com/company/optiquelafaye...   \n",
       "\n",
       "                                Site entreprise  \\\n",
       "0  https://www.jeminstalle-optiquelafayette.com   \n",
       "1  https://www.jeminstalle-optiquelafayette.com   \n",
       "2  https://www.jeminstalle-optiquelafayette.com   \n",
       "3  https://www.jeminstalle-optiquelafayette.com   \n",
       "4  https://www.jeminstalle-optiquelafayette.com   \n",
       "\n",
       "                                 Poste Prénom_x        Nom  Email_x Prénom_y  \\\n",
       "0   Chargée Marketing et Communication   Noémie      Le Ho      NaN      NaN   \n",
       "1                         -Opticienne-    Laura   Bernadac      NaN      NaN   \n",
       "2             Gérant OPTIQUE LAFAYETTE   Julien    Berdeil      NaN      NaN   \n",
       "3  Assistante ADV chez Groupe Lafsanté   Laurie  Blanchard      NaN      NaN   \n",
       "4   Monteur-vendeur chez le 7 opticien   Gilles     Sureau      NaN      NaN   \n",
       "\n",
       "  Email_y Company LinkedIn_y email_empty  \n",
       "0     NaN                NaN         NaN  \n",
       "1     NaN                NaN         NaN  \n",
       "2     NaN                NaN         NaN  \n",
       "3     NaN                NaN         NaN  \n",
       "4     NaN                NaN         NaN  "
      ]
     },
     "execution_count": 56,
     "metadata": {},
     "output_type": "execute_result"
    }
   ],
   "source": [
    "merged = file_to_enrich.merge(enrichment_file, on='Nom', how='left')\n",
    "merged.head()"
   ]
  },
  {
   "cell_type": "code",
   "execution_count": 57,
   "metadata": {},
   "outputs": [],
   "source": [
    "final_df = merged.drop(columns=['Prénom_x', 'Prénom_y', 'Email_x', 'email_empty'])\n"
   ]
  },
  {
   "cell_type": "code",
   "execution_count": 58,
   "metadata": {},
   "outputs": [],
   "source": [
    "final_df.to_csv(DATA_FOLDER_PATH / 'db/V2-E.csv', index=False)"
   ]
  }
 ],
 "metadata": {
  "kernelspec": {
   "display_name": "Python 3",
   "language": "python",
   "name": "python3"
  },
  "language_info": {
   "codemirror_mode": {
    "name": "ipython",
    "version": 3
   },
   "file_extension": ".py",
   "mimetype": "text/x-python",
   "name": "python",
   "nbconvert_exporter": "python",
   "pygments_lexer": "ipython3",
   "version": "3.11.1"
  },
  "orig_nbformat": 4
 },
 "nbformat": 4,
 "nbformat_minor": 2
}
