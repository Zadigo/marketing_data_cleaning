{
 "cells": [
  {
   "cell_type": "markdown",
   "metadata": {},
   "source": [
    "## Enrich from a Dropcontact file\n",
    "Enrich a CSV file from a Dropcontact result file"
   ]
  },
  {
   "cell_type": "code",
   "execution_count": 91,
   "metadata": {},
   "outputs": [],
   "source": [
    "import pandas\n",
    "from marketing_data_cleaning import DATA_FOLDER_PATH"
   ]
  },
  {
   "cell_type": "code",
   "execution_count": 92,
   "metadata": {},
   "outputs": [],
   "source": [
    "enrichment_file = pandas.read_csv(DATA_FOLDER_PATH / 'enrichment.csv', sep=';')"
   ]
  },
  {
   "cell_type": "code",
   "execution_count": 93,
   "metadata": {},
   "outputs": [],
   "source": [
    "file_to_enrich = pandas.read_csv(DATA_FOLDER_PATH / 'db/V4.csv')"
   ]
  },
  {
   "cell_type": "markdown",
   "metadata": {},
   "source": [
    "Only keep some of the columns and also ensure that the columns carry the same column names as the file to enrich"
   ]
  },
  {
   "cell_type": "code",
   "execution_count": 94,
   "metadata": {},
   "outputs": [],
   "source": [
    "enrichment_file = enrichment_file[['nom', 'prenom', 'Email']]\n",
    "enrichment_file.drop_duplicates(inplace=True)\n"
   ]
  },
  {
   "cell_type": "code",
   "execution_count": 95,
   "metadata": {},
   "outputs": [],
   "source": [
    "enrichment_file = enrichment_file.rename(columns={'nom': 'Nom', 'prenom': 'Prénom'})"
   ]
  },
  {
   "cell_type": "markdown",
   "metadata": {},
   "source": [
    "Keep the values for which we actually do have an email [eventually, consider checking the LinkedIn profile url]"
   ]
  },
  {
   "cell_type": "code",
   "execution_count": 96,
   "metadata": {},
   "outputs": [],
   "source": [
    "# enrichment_file['email_empty'] = enrichment_file['Email'].empty\n",
    "enrichment_file['email_empty'] = enrichment_file['Email'].isna()\n",
    "\n"
   ]
  },
  {
   "cell_type": "code",
   "execution_count": 108,
   "metadata": {},
   "outputs": [],
   "source": [
    "with_emails = enrichment_file[enrichment_file['email_empty'] == False]\n"
   ]
  },
  {
   "cell_type": "markdown",
   "metadata": {},
   "source": [
    "Use the merge technique which will keep all the columns on our base dataframe and will match the values to merge based on the `on` parameter"
   ]
  },
  {
   "cell_type": "code",
   "execution_count": 99,
   "metadata": {},
   "outputs": [],
   "source": [
    "merged = file_to_enrich.merge(enrichment_file, on='Nom', how='left')"
   ]
  },
  {
   "cell_type": "code",
   "execution_count": 105,
   "metadata": {},
   "outputs": [],
   "source": [
    "final_df = merged.drop(columns=['Prénom_x', 'Prénom_y', 'email_empty'])\n"
   ]
  },
  {
   "cell_type": "code",
   "execution_count": 107,
   "metadata": {},
   "outputs": [],
   "source": [
    "final_df.to_csv(DATA_FOLDER_PATH / 'db/V4-E.csv', index=False)"
   ]
  }
 ],
 "metadata": {
  "kernelspec": {
   "display_name": "Python 3",
   "language": "python",
   "name": "python3"
  },
  "language_info": {
   "codemirror_mode": {
    "name": "ipython",
    "version": 3
   },
   "file_extension": ".py",
   "mimetype": "text/x-python",
   "name": "python",
   "nbconvert_exporter": "python",
   "pygments_lexer": "ipython3",
   "version": "3.11.0"
  },
  "orig_nbformat": 4
 },
 "nbformat": 4,
 "nbformat_minor": 2
}
