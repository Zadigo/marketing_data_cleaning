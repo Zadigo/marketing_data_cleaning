{
 "cells": [
  {
   "cell_type": "code",
   "execution_count": 19,
   "metadata": {},
   "outputs": [],
   "source": [
    "import pandas\n",
    "import re\n",
    "from marketing_data_cleaning import DATA_FOLDER_PATH"
   ]
  },
  {
   "cell_type": "code",
   "execution_count": 20,
   "metadata": {},
   "outputs": [],
   "source": [
    "df = pandas.read_csv(DATA_FOLDER_PATH / 'inputs/file1.csv', sep=';')"
   ]
  },
  {
   "cell_type": "code",
   "execution_count": 21,
   "metadata": {},
   "outputs": [],
   "source": [
    "def name_refixer(value):\n",
    "    try:\n",
    "        name, _ = str(value).split('-', maxsplit=1)\n",
    "    except:\n",
    "        return value\n",
    "    else:\n",
    "        return name\n",
    "\n",
    "\n",
    "df['full_name'] = df['names'].apply(name_refixer)\n"
   ]
  },
  {
   "cell_type": "code",
   "execution_count": 22,
   "metadata": {},
   "outputs": [
    {
     "data": {
      "text/html": [
       "<div>\n",
       "<style scoped>\n",
       "    .dataframe tbody tr th:only-of-type {\n",
       "        vertical-align: middle;\n",
       "    }\n",
       "\n",
       "    .dataframe tbody tr th {\n",
       "        vertical-align: top;\n",
       "    }\n",
       "\n",
       "    .dataframe thead th {\n",
       "        text-align: right;\n",
       "    }\n",
       "</style>\n",
       "<table border=\"1\" class=\"dataframe\">\n",
       "  <thead>\n",
       "    <tr style=\"text-align: right;\">\n",
       "      <th></th>\n",
       "      <th>linkedin</th>\n",
       "      <th>names</th>\n",
       "      <th>position</th>\n",
       "      <th>company</th>\n",
       "      <th>full_name</th>\n",
       "    </tr>\n",
       "  </thead>\n",
       "  <tbody>\n",
       "    <tr>\n",
       "      <th>0</th>\n",
       "      <td>https://fr.linkedin.com/in/maudscheck</td>\n",
       "      <td>Maud Scheck - Responsable développement commer...</td>\n",
       "      <td>Responsable développement commercial</td>\n",
       "      <td>Crèches Pour Tous</td>\n",
       "      <td>Maud Scheck</td>\n",
       "    </tr>\n",
       "    <tr>\n",
       "      <th>1</th>\n",
       "      <td>https://fr.linkedin.com/in/cyrilcoulon</td>\n",
       "      <td>Cyril Coulon - Les Petits Chaperons Rouges - L...</td>\n",
       "      <td>Responsable commercial Bretagne / Pays de la L...</td>\n",
       "      <td>Les Petits Chaperons Rouges</td>\n",
       "      <td>Cyril Coulon</td>\n",
       "    </tr>\n",
       "    <tr>\n",
       "      <th>2</th>\n",
       "      <td>https://fr.linkedin.com/in/richardgilles</td>\n",
       "      <td>Richard GILLES - La Compagnie des Crèches - Le...</td>\n",
       "      <td>Business developer</td>\n",
       "      <td>Crèches Pour Tous</td>\n",
       "      <td>Richard GILLES</td>\n",
       "    </tr>\n",
       "    <tr>\n",
       "      <th>3</th>\n",
       "      <td>https://fr.linkedin.com/in/laure-fanton-la-mai...</td>\n",
       "      <td>Laure Fanton - La Maison Bleue - Manager des V...</td>\n",
       "      <td>Manager des Ventes</td>\n",
       "      <td>La Maison Bleue</td>\n",
       "      <td>Laure Fanton</td>\n",
       "    </tr>\n",
       "    <tr>\n",
       "      <th>4</th>\n",
       "      <td>https://fr.linkedin.com/in/matthieu-devergne-4...</td>\n",
       "      <td>Matthieu Devergne - Président Fondateur - Chou...</td>\n",
       "      <td>Président Fondateur</td>\n",
       "      <td>Chouettes Crèches</td>\n",
       "      <td>Matthieu Devergne</td>\n",
       "    </tr>\n",
       "  </tbody>\n",
       "</table>\n",
       "</div>"
      ],
      "text/plain": [
       "                                            linkedin  \\\n",
       "0              https://fr.linkedin.com/in/maudscheck   \n",
       "1             https://fr.linkedin.com/in/cyrilcoulon   \n",
       "2           https://fr.linkedin.com/in/richardgilles   \n",
       "3  https://fr.linkedin.com/in/laure-fanton-la-mai...   \n",
       "4  https://fr.linkedin.com/in/matthieu-devergne-4...   \n",
       "\n",
       "                                               names  \\\n",
       "0  Maud Scheck - Responsable développement commer...   \n",
       "1  Cyril Coulon - Les Petits Chaperons Rouges - L...   \n",
       "2  Richard GILLES - La Compagnie des Crèches - Le...   \n",
       "3  Laure Fanton - La Maison Bleue - Manager des V...   \n",
       "4  Matthieu Devergne - Président Fondateur - Chou...   \n",
       "\n",
       "                                            position  \\\n",
       "0               Responsable développement commercial   \n",
       "1  Responsable commercial Bretagne / Pays de la L...   \n",
       "2                                 Business developer   \n",
       "3                                 Manager des Ventes   \n",
       "4                                Président Fondateur   \n",
       "\n",
       "                       company           full_name  \n",
       "0            Crèches Pour Tous        Maud Scheck   \n",
       "1  Les Petits Chaperons Rouges       Cyril Coulon   \n",
       "2            Crèches Pour Tous     Richard GILLES   \n",
       "3              La Maison Bleue       Laure Fanton   \n",
       "4            Chouettes Crèches  Matthieu Devergne   "
      ]
     },
     "execution_count": 22,
     "metadata": {},
     "output_type": "execute_result"
    }
   ],
   "source": [
    "df.head()"
   ]
  },
  {
   "cell_type": "code",
   "execution_count": 23,
   "metadata": {},
   "outputs": [],
   "source": [
    "df.to_csv(DATA_FOLDER_PATH / 'inputs/adapt_to_dropcontact.csv', index=False)\n"
   ]
  }
 ],
 "metadata": {
  "kernelspec": {
   "display_name": "Python 3",
   "language": "python",
   "name": "python3"
  },
  "language_info": {
   "codemirror_mode": {
    "name": "ipython",
    "version": 3
   },
   "file_extension": ".py",
   "mimetype": "text/x-python",
   "name": "python",
   "nbconvert_exporter": "python",
   "pygments_lexer": "ipython3",
   "version": "3.11.0"
  },
  "orig_nbformat": 4
 },
 "nbformat": 4,
 "nbformat_minor": 2
}
