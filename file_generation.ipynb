{
 "cells": [
  {
   "cell_type": "code",
   "execution_count": 76,
   "metadata": {},
   "outputs": [],
   "source": [
    "import pandas\n",
    "import json\n",
    "from itertools import chain\n"
   ]
  },
  {
   "cell_type": "code",
   "execution_count": 77,
   "metadata": {},
   "outputs": [],
   "source": [
    "women = 'https://www.lcwaikiki.fr/fr-FR/FR/product-group/women?PageIndex={index}'\n",
    "men = 'https://www.lcwaikiki.fr/fr-FR/FR/product-group/men?PageIndex={index}'\n",
    "kids = 'https://www.lcwaikiki.fr/fr-FR/FR/product-group/kids?PageIndex={index}'\n",
    "home = 'https://www.lcwaikiki.fr/fr-FR/FR/catalog/lcw-home?PageIndex={index}'\n",
    "\n",
    "women_data = [women.format(index=i) for i in range(1, 74)]\n",
    "men_data = [men.format(index=i) for i in range(1, 55)]\n",
    "kids_data = [kids.format(index=i) for i in range(1, 42)]\n",
    "home_data = [home.format(index=i) for i in range(1, 14)]\n"
   ]
  },
  {
   "cell_type": "code",
   "execution_count": 78,
   "metadata": {},
   "outputs": [],
   "source": [
    "pages = chain(women_data, men_data, kids_data, home_data)\n"
   ]
  },
  {
   "cell_type": "code",
   "execution_count": 79,
   "metadata": {},
   "outputs": [],
   "source": [
    "df = pandas.DataFrame(pages)\n"
   ]
  },
  {
   "cell_type": "code",
   "execution_count": 80,
   "metadata": {},
   "outputs": [],
   "source": [
    "df.to_csv('lc_waikiki.csv', index=False)\n"
   ]
  }
 ],
 "metadata": {
  "kernelspec": {
   "display_name": "Python 3",
   "language": "python",
   "name": "python3"
  },
  "language_info": {
   "codemirror_mode": {
    "name": "ipython",
    "version": 3
   },
   "file_extension": ".py",
   "mimetype": "text/x-python",
   "name": "python",
   "nbconvert_exporter": "python",
   "pygments_lexer": "ipython3",
   "version": "3.11.1"
  }
 },
 "nbformat": 4,
 "nbformat_minor": 2
}
