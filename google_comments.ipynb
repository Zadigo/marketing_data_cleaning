{
 "cells": [
  {
   "cell_type": "code",
   "execution_count": 29,
   "metadata": {},
   "outputs": [],
   "source": [
    "import pandas\n",
    "import json\n",
    "import re\n",
    "from marketing_data_cleaning import PROJECT_PATH\n"
   ]
  },
  {
   "cell_type": "markdown",
   "metadata": {},
   "source": [
    "## Fix the data in the file"
   ]
  },
  {
   "cell_type": "code",
   "execution_count": 30,
   "metadata": {},
   "outputs": [],
   "source": [
    "f = open(PROJECT_PATH /\n",
    "         \"..\\\\google_comments\\\\google_comments\\\\media\\\\7afc31302f.json\", encoding='utf-8')\n",
    "data = json.load(f)\n",
    "f.close()\n"
   ]
  },
  {
   "cell_type": "code",
   "execution_count": 31,
   "metadata": {},
   "outputs": [],
   "source": [
    "comments = []\n",
    "for item in data:\n",
    "    for comment in item['comments']:\n",
    "        comment['name'] = item['name']\n",
    "        comment['url'] = item['url']\n",
    "        comment['feed_url'] = item['feed_url']\n",
    "        comment['address'] = item['address']\n",
    "        comment['rating'] = comment['rating']\n",
    "        comment['latitude'] = item['latitude']\n",
    "        comment['longitude'] = item['longitude']\n",
    "        comments.append(comment)\n"
   ]
  },
  {
   "cell_type": "code",
   "execution_count": 32,
   "metadata": {},
   "outputs": [],
   "source": [
    "for comment in comments:\n",
    "    text = comment['text']\n",
    "    if text is None:\n",
    "        continue\n",
    "    tokens = text.split(' ')\n",
    "    tokens = filter(lambda x: x != '', tokens)\n",
    "    text = ' '.join(tokens)\n",
    "    text = re.sub('\\n', '', text)\n",
    "    comment['text'] = text\n"
   ]
  },
  {
   "cell_type": "code",
   "execution_count": 33,
   "metadata": {},
   "outputs": [],
   "source": [
    "df = pandas.DataFrame(comments)\n"
   ]
  },
  {
   "cell_type": "code",
   "execution_count": 34,
   "metadata": {},
   "outputs": [],
   "source": [
    "df = df[['name', 'text', 'period', 'address', 'rating', 'latitude', 'longitude']]\n"
   ]
  },
  {
   "cell_type": "code",
   "execution_count": 35,
   "metadata": {},
   "outputs": [
    {
     "data": {
      "text/html": [
       "<div>\n",
       "<style scoped>\n",
       "    .dataframe tbody tr th:only-of-type {\n",
       "        vertical-align: middle;\n",
       "    }\n",
       "\n",
       "    .dataframe tbody tr th {\n",
       "        vertical-align: top;\n",
       "    }\n",
       "\n",
       "    .dataframe thead th {\n",
       "        text-align: right;\n",
       "    }\n",
       "</style>\n",
       "<table border=\"1\" class=\"dataframe\">\n",
       "  <thead>\n",
       "    <tr style=\"text-align: right;\">\n",
       "      <th></th>\n",
       "      <th>name</th>\n",
       "      <th>text</th>\n",
       "      <th>period</th>\n",
       "      <th>address</th>\n",
       "      <th>rating</th>\n",
       "      <th>latitude</th>\n",
       "      <th>longitude</th>\n",
       "    </tr>\n",
       "  </thead>\n",
       "  <tbody>\n",
       "    <tr>\n",
       "      <th>0</th>\n",
       "      <td>PAUL</td>\n",
       "      <td>Une salade Paul sans sauce Cesar ni assaisonne...</td>\n",
       "      <td>il y a 2 semaines Nouveau</td>\n",
       "      <td>Entrée près du dépose minute départ Gare St Ch...</td>\n",
       "      <td>1 etoile</td>\n",
       "      <td>50.6476038</td>\n",
       "      <td>3.0751395</td>\n",
       "    </tr>\n",
       "    <tr>\n",
       "      <th>1</th>\n",
       "      <td>PAUL</td>\n",
       "      <td>Ils meritent leur note minable et n'en tirent ...</td>\n",
       "      <td>il y a 2 semaines Nouveau</td>\n",
       "      <td>Entrée près du dépose minute départ Gare St Ch...</td>\n",
       "      <td>1 etoile</td>\n",
       "      <td>50.6476038</td>\n",
       "      <td>3.0751395</td>\n",
       "    </tr>\n",
       "    <tr>\n",
       "      <th>2</th>\n",
       "      <td>PAUL</td>\n",
       "      <td>None</td>\n",
       "      <td>il y a 3 semaines Nouveau</td>\n",
       "      <td>Entrée près du dépose minute départ Gare St Ch...</td>\n",
       "      <td>5 etoiles</td>\n",
       "      <td>50.6476038</td>\n",
       "      <td>3.0751395</td>\n",
       "    </tr>\n",
       "    <tr>\n",
       "      <th>3</th>\n",
       "      <td>PAUL</td>\n",
       "      <td>Skrinkflation : Sandwich au thon avec du thon ...</td>\n",
       "      <td>il y a un mois</td>\n",
       "      <td>Entrée près du dépose minute départ Gare St Ch...</td>\n",
       "      <td>1 etoile</td>\n",
       "      <td>50.6476038</td>\n",
       "      <td>3.0751395</td>\n",
       "    </tr>\n",
       "    <tr>\n",
       "      <th>4</th>\n",
       "      <td>PAUL</td>\n",
       "      <td>Je viens d'acheter un sable et en ouvrant le s...</td>\n",
       "      <td>il y a un mois</td>\n",
       "      <td>Entrée près du dépose minute départ Gare St Ch...</td>\n",
       "      <td>1 etoile</td>\n",
       "      <td>50.6476038</td>\n",
       "      <td>3.0751395</td>\n",
       "    </tr>\n",
       "  </tbody>\n",
       "</table>\n",
       "</div>"
      ],
      "text/plain": [
       "   name                                               text  \\\n",
       "0  PAUL  Une salade Paul sans sauce Cesar ni assaisonne...   \n",
       "1  PAUL  Ils meritent leur note minable et n'en tirent ...   \n",
       "2  PAUL                                               None   \n",
       "3  PAUL  Skrinkflation : Sandwich au thon avec du thon ...   \n",
       "4  PAUL  Je viens d'acheter un sable et en ouvrant le s...   \n",
       "\n",
       "                      period  \\\n",
       "0  il y a 2 semaines Nouveau   \n",
       "1  il y a 2 semaines Nouveau   \n",
       "2  il y a 3 semaines Nouveau   \n",
       "3             il y a un mois   \n",
       "4             il y a un mois   \n",
       "\n",
       "                                             address     rating    latitude  \\\n",
       "0  Entrée près du dépose minute départ Gare St Ch...   1 etoile  50.6476038   \n",
       "1  Entrée près du dépose minute départ Gare St Ch...   1 etoile  50.6476038   \n",
       "2  Entrée près du dépose minute départ Gare St Ch...  5 etoiles  50.6476038   \n",
       "3  Entrée près du dépose minute départ Gare St Ch...   1 etoile  50.6476038   \n",
       "4  Entrée près du dépose minute départ Gare St Ch...   1 etoile  50.6476038   \n",
       "\n",
       "   longitude  \n",
       "0  3.0751395  \n",
       "1  3.0751395  \n",
       "2  3.0751395  \n",
       "3  3.0751395  \n",
       "4  3.0751395  "
      ]
     },
     "execution_count": 35,
     "metadata": {},
     "output_type": "execute_result"
    }
   ],
   "source": [
    "df.head()\n"
   ]
  },
  {
   "cell_type": "code",
   "execution_count": 11,
   "metadata": {},
   "outputs": [],
   "source": [
    "def parse_rating(value):\n",
    "    if isinstance(value, (int, float)):\n",
    "        return value\n",
    "    \n",
    "    if value is None:\n",
    "        return value\n",
    "    \n",
    "    result = re.search('(\\d+)', value)\n",
    "    if result:\n",
    "        return result.group(1)\n",
    "    return value\n",
    "\n",
    "df['rating'] = df['rating'].map(parse_rating)\n"
   ]
  },
  {
   "cell_type": "code",
   "execution_count": 12,
   "metadata": {},
   "outputs": [],
   "source": [
    "df.to_csv('google_comments.csv', encoding='utf-8', index=False)\n"
   ]
  }
 ],
 "metadata": {
  "kernelspec": {
   "display_name": "Python 3",
   "language": "python",
   "name": "python3"
  },
  "language_info": {
   "codemirror_mode": {
    "name": "ipython",
    "version": 3
   },
   "file_extension": ".py",
   "mimetype": "text/x-python",
   "name": "python",
   "nbconvert_exporter": "python",
   "pygments_lexer": "ipython3",
   "version": "3.11.1"
  },
  "orig_nbformat": 4
 },
 "nbformat": 4,
 "nbformat_minor": 2
}
