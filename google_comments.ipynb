{
 "cells": [
  {
   "cell_type": "code",
   "execution_count": 33,
   "metadata": {},
   "outputs": [],
   "source": [
    "import pandas\n",
    "import json\n",
    "import re"
   ]
  },
  {
   "cell_type": "markdown",
   "metadata": {},
   "source": [
    "## Fix the data in the file"
   ]
  },
  {
   "cell_type": "code",
   "execution_count": 34,
   "metadata": {},
   "outputs": [],
   "source": [
    "f = open(\"Z:\\\\- RESPONSABLE DIGITAL\\\\SCRIPTS\\\\boulangeries\\\\da024b5229b00475d4a2.json\", encoding='utf-8')\n",
    "data = json.load(f)\n",
    "f.close()"
   ]
  },
  {
   "cell_type": "code",
   "execution_count": 35,
   "metadata": {},
   "outputs": [],
   "source": [
    "comments = []\n",
    "for item in data:\n",
    "    for comment in item['comments']:\n",
    "        comment['name'] = item['name']\n",
    "        comment['url'] = item['url']\n",
    "        comment['feed_url'] = item['feed_url']\n",
    "        comment['address'] = item['address']\n",
    "        comment['rating'] = item['rating']\n",
    "        comment['latitude'] = item['latitude']\n",
    "        comment['longitude'] = item['longitude']\n",
    "        comments.append(comment)"
   ]
  },
  {
   "cell_type": "code",
   "execution_count": 36,
   "metadata": {},
   "outputs": [],
   "source": [
    "for comment in comments:\n",
    "    text = comment['text']\n",
    "    tokens = text.split(' ')\n",
    "    tokens = filter(lambda x: x != '', tokens)\n",
    "    text = ' '.join(tokens)\n",
    "    text = re.sub('\\n', '', text)\n",
    "    comment['text'] = text"
   ]
  },
  {
   "cell_type": "code",
   "execution_count": 37,
   "metadata": {},
   "outputs": [],
   "source": [
    "df = pandas.DataFrame(comments)"
   ]
  },
  {
   "cell_type": "code",
   "execution_count": 38,
   "metadata": {},
   "outputs": [],
   "source": [
    "df = df[['name', 'text', 'period', 'address', 'rating', 'latitude', 'longitude']]"
   ]
  },
  {
   "cell_type": "code",
   "execution_count": 39,
   "metadata": {},
   "outputs": [],
   "source": [
    "df['rating'] = df['rating'].map(lambda x: re.search('(\\d+)', x).group(1))"
   ]
  },
  {
   "cell_type": "code",
   "execution_count": 40,
   "metadata": {},
   "outputs": [],
   "source": [
    "df.to_csv('test_comments.csv', encoding='utf-8', index=False)"
   ]
  }
 ],
 "metadata": {
  "kernelspec": {
   "display_name": "Python 3",
   "language": "python",
   "name": "python3"
  },
  "language_info": {
   "codemirror_mode": {
    "name": "ipython",
    "version": 3
   },
   "file_extension": ".py",
   "mimetype": "text/x-python",
   "name": "python",
   "nbconvert_exporter": "python",
   "pygments_lexer": "ipython3",
   "version": "3.11.1"
  },
  "orig_nbformat": 4
 },
 "nbformat": 4,
 "nbformat_minor": 2
}
