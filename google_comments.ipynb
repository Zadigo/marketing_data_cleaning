{
 "cells": [
  {
   "cell_type": "code",
   "execution_count": 63,
   "metadata": {},
   "outputs": [],
   "source": [
    "import pandas\n",
    "import json\n",
    "import re\n",
    "from marketing_data_cleaning import PROJECT_PATH\n"
   ]
  },
  {
   "cell_type": "markdown",
   "metadata": {},
   "source": [
    "## Fix the data in the file"
   ]
  },
  {
   "cell_type": "code",
   "execution_count": 64,
   "metadata": {},
   "outputs": [],
   "source": [
    "f = open(PROJECT_PATH /\n",
    "         \"..\\\\boulangeries\\\\media\\\\louise.json\", encoding='utf-8')\n",
    "data = json.load(f)\n",
    "f.close()\n"
   ]
  },
  {
   "cell_type": "code",
   "execution_count": 65,
   "metadata": {},
   "outputs": [],
   "source": [
    "comments = []\n",
    "for item in data:\n",
    "    for comment in item['comments']:\n",
    "        comment['name'] = item['name']\n",
    "        comment['url'] = item['url']\n",
    "        comment['feed_url'] = item['feed_url']\n",
    "        comment['address'] = item['address']\n",
    "        comment['rating'] = item['rating']\n",
    "        comment['latitude'] = item['latitude']\n",
    "        comment['longitude'] = item['longitude']\n",
    "        comments.append(comment)\n"
   ]
  },
  {
   "cell_type": "code",
   "execution_count": 66,
   "metadata": {},
   "outputs": [],
   "source": [
    "for comment in comments:\n",
    "    text = comment['text']\n",
    "    if text is None:\n",
    "        continue\n",
    "    tokens = text.split(' ')\n",
    "    tokens = filter(lambda x: x != '', tokens)\n",
    "    text = ' '.join(tokens)\n",
    "    text = re.sub('\\n', '', text)\n",
    "    comment['text'] = text\n"
   ]
  },
  {
   "cell_type": "code",
   "execution_count": 67,
   "metadata": {},
   "outputs": [],
   "source": [
    "df = pandas.DataFrame(comments)\n"
   ]
  },
  {
   "cell_type": "code",
   "execution_count": 68,
   "metadata": {},
   "outputs": [],
   "source": [
    "df = df[['name', 'text', 'period', 'address', 'rating', 'latitude', 'longitude']]\n"
   ]
  },
  {
   "cell_type": "code",
   "execution_count": 69,
   "metadata": {},
   "outputs": [],
   "source": [
    "def parse_rating(value):\n",
    "    if value is None:\n",
    "        return value\n",
    "    result = re.search('(\\d+)', value)\n",
    "    if result:\n",
    "        return result.group(1)\n",
    "    return value\n",
    "\n",
    "df['rating'] = df['rating'].map(parse_rating)\n"
   ]
  },
  {
   "cell_type": "code",
   "execution_count": 70,
   "metadata": {},
   "outputs": [],
   "source": [
    "df.to_csv('test_comments.csv', encoding='utf-8', index=False)\n"
   ]
  }
 ],
 "metadata": {
  "kernelspec": {
   "display_name": "Python 3",
   "language": "python",
   "name": "python3"
  },
  "language_info": {
   "codemirror_mode": {
    "name": "ipython",
    "version": 3
   },
   "file_extension": ".py",
   "mimetype": "text/x-python",
   "name": "python",
   "nbconvert_exporter": "python",
   "pygments_lexer": "ipython3",
   "version": "3.11.1"
  },
  "orig_nbformat": 4
 },
 "nbformat": 4,
 "nbformat_minor": 2
}
