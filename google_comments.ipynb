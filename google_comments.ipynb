{
 "cells": [
  {
   "cell_type": "code",
   "execution_count": 10,
   "metadata": {},
   "outputs": [],
   "source": [
    "import pandas\n",
    "import json\n",
    "import re\n",
    "from marketing_data_cleaning import PROJECT_PATH\n"
   ]
  },
  {
   "cell_type": "markdown",
   "metadata": {},
   "source": [
    "## Fix the data in the file"
   ]
  },
  {
   "cell_type": "code",
   "execution_count": 11,
   "metadata": {},
   "outputs": [],
   "source": [
    "f = open(PROJECT_PATH /\n",
    "         \"..\\\\google_comments\\\\google_comments\\\\media\\\\d3c0dffcf8.json\", encoding='utf-8')\n",
    "data = json.load(f)\n",
    "f.close()\n"
   ]
  },
  {
   "cell_type": "code",
   "execution_count": 12,
   "metadata": {},
   "outputs": [],
   "source": [
    "comments = []\n",
    "for item in data:\n",
    "    for comment in item['comments']:\n",
    "        comment['name'] = item['name']\n",
    "        comment['url'] = item['url']\n",
    "        comment['feed_url'] = item['feed_url']\n",
    "        comment['address'] = item['address']\n",
    "        comment['rating'] = comment['rating']\n",
    "        comment['latitude'] = item['latitude']\n",
    "        comment['longitude'] = item['longitude']\n",
    "        comments.append(comment)\n"
   ]
  },
  {
   "cell_type": "code",
   "execution_count": 13,
   "metadata": {},
   "outputs": [],
   "source": [
    "for comment in comments:\n",
    "    text = comment['text']\n",
    "    if text is None:\n",
    "        continue\n",
    "    tokens = text.split(' ')\n",
    "    tokens = filter(lambda x: x != '', tokens)\n",
    "    text = ' '.join(tokens)\n",
    "    text = re.sub('\\n', '', text)\n",
    "    comment['text'] = text\n"
   ]
  },
  {
   "cell_type": "code",
   "execution_count": 14,
   "metadata": {},
   "outputs": [],
   "source": [
    "df = pandas.DataFrame(comments)\n"
   ]
  },
  {
   "cell_type": "code",
   "execution_count": 15,
   "metadata": {},
   "outputs": [],
   "source": [
    "df = df[['name', 'text', 'period', 'address', 'rating', 'latitude', 'longitude']]\n"
   ]
  },
  {
   "cell_type": "code",
   "execution_count": 16,
   "metadata": {},
   "outputs": [
    {
     "data": {
      "text/html": [
       "<div>\n",
       "<style scoped>\n",
       "    .dataframe tbody tr th:only-of-type {\n",
       "        vertical-align: middle;\n",
       "    }\n",
       "\n",
       "    .dataframe tbody tr th {\n",
       "        vertical-align: top;\n",
       "    }\n",
       "\n",
       "    .dataframe thead th {\n",
       "        text-align: right;\n",
       "    }\n",
       "</style>\n",
       "<table border=\"1\" class=\"dataframe\">\n",
       "  <thead>\n",
       "    <tr style=\"text-align: right;\">\n",
       "      <th></th>\n",
       "      <th>name</th>\n",
       "      <th>text</th>\n",
       "      <th>period</th>\n",
       "      <th>address</th>\n",
       "      <th>rating</th>\n",
       "      <th>latitude</th>\n",
       "      <th>longitude</th>\n",
       "    </tr>\n",
       "  </thead>\n",
       "  <tbody>\n",
       "    <tr>\n",
       "      <th>0</th>\n",
       "      <td>Boulangeries Paul</td>\n",
       "      <td>Tres, tres propre et tjr....disponible...Les v...</td>\n",
       "      <td>il y a un mois</td>\n",
       "      <td>28 Av. de Paris, 95230 Soisy-sous-Montmorency</td>\n",
       "      <td>5 etoiles</td>\n",
       "      <td>48.8067265</td>\n",
       "      <td>2.2653039</td>\n",
       "    </tr>\n",
       "    <tr>\n",
       "      <th>1</th>\n",
       "      <td>Boulangeries Paul</td>\n",
       "      <td>Honteux de se faire affiche pour son caddie de...</td>\n",
       "      <td>il y a un mois</td>\n",
       "      <td>28 Av. de Paris, 95230 Soisy-sous-Montmorency</td>\n",
       "      <td>2 etoiles</td>\n",
       "      <td>48.8067265</td>\n",
       "      <td>2.2653039</td>\n",
       "    </tr>\n",
       "    <tr>\n",
       "      <th>2</th>\n",
       "      <td>Boulangeries Paul</td>\n",
       "      <td>Nous venez chez Paul depuis des annees nous av...</td>\n",
       "      <td>il y a un mois</td>\n",
       "      <td>28 Av. de Paris, 95230 Soisy-sous-Montmorency</td>\n",
       "      <td>1 etoile</td>\n",
       "      <td>48.8067265</td>\n",
       "      <td>2.2653039</td>\n",
       "    </tr>\n",
       "    <tr>\n",
       "      <th>3</th>\n",
       "      <td>Boulangeries Paul</td>\n",
       "      <td>2 baguettes achetees le 16.08.23 a 18h00. Il s...</td>\n",
       "      <td>il y a 2 mois</td>\n",
       "      <td>28 Av. de Paris, 95230 Soisy-sous-Montmorency</td>\n",
       "      <td>1 etoile</td>\n",
       "      <td>48.8067265</td>\n",
       "      <td>2.2653039</td>\n",
       "    </tr>\n",
       "    <tr>\n",
       "      <th>4</th>\n",
       "      <td>Boulangeries Paul</td>\n",
       "      <td>None</td>\n",
       "      <td>il y a 2 mois</td>\n",
       "      <td>28 Av. de Paris, 95230 Soisy-sous-Montmorency</td>\n",
       "      <td>1 etoile</td>\n",
       "      <td>48.8067265</td>\n",
       "      <td>2.2653039</td>\n",
       "    </tr>\n",
       "  </tbody>\n",
       "</table>\n",
       "</div>"
      ],
      "text/plain": [
       "                name                                               text  \\\n",
       "0  Boulangeries Paul  Tres, tres propre et tjr....disponible...Les v...   \n",
       "1  Boulangeries Paul  Honteux de se faire affiche pour son caddie de...   \n",
       "2  Boulangeries Paul  Nous venez chez Paul depuis des annees nous av...   \n",
       "3  Boulangeries Paul  2 baguettes achetees le 16.08.23 a 18h00. Il s...   \n",
       "4  Boulangeries Paul                                               None   \n",
       "\n",
       "           period                                        address     rating  \\\n",
       "0  il y a un mois  28 Av. de Paris, 95230 Soisy-sous-Montmorency  5 etoiles   \n",
       "1  il y a un mois  28 Av. de Paris, 95230 Soisy-sous-Montmorency  2 etoiles   \n",
       "2  il y a un mois  28 Av. de Paris, 95230 Soisy-sous-Montmorency   1 etoile   \n",
       "3   il y a 2 mois  28 Av. de Paris, 95230 Soisy-sous-Montmorency   1 etoile   \n",
       "4   il y a 2 mois  28 Av. de Paris, 95230 Soisy-sous-Montmorency   1 etoile   \n",
       "\n",
       "     latitude  longitude  \n",
       "0  48.8067265  2.2653039  \n",
       "1  48.8067265  2.2653039  \n",
       "2  48.8067265  2.2653039  \n",
       "3  48.8067265  2.2653039  \n",
       "4  48.8067265  2.2653039  "
      ]
     },
     "execution_count": 16,
     "metadata": {},
     "output_type": "execute_result"
    }
   ],
   "source": [
    "df.head()\n"
   ]
  },
  {
   "cell_type": "code",
   "execution_count": 17,
   "metadata": {},
   "outputs": [],
   "source": [
    "def parse_rating(value):\n",
    "    if isinstance(value, (int, float)):\n",
    "        return value\n",
    "    \n",
    "    if value is None:\n",
    "        return value\n",
    "    \n",
    "    result = re.search('(\\d+)', value)\n",
    "    if result:\n",
    "        return result.group(1)\n",
    "    return value\n",
    "\n",
    "df['rating'] = df['rating'].map(parse_rating)\n"
   ]
  },
  {
   "cell_type": "code",
   "execution_count": 18,
   "metadata": {},
   "outputs": [],
   "source": [
    "df.to_csv('google_comments.csv', encoding='utf-8', index=False)\n"
   ]
  }
 ],
 "metadata": {
  "kernelspec": {
   "display_name": "Python 3",
   "language": "python",
   "name": "python3"
  },
  "language_info": {
   "codemirror_mode": {
    "name": "ipython",
    "version": 3
   },
   "file_extension": ".py",
   "mimetype": "text/x-python",
   "name": "python",
   "nbconvert_exporter": "python",
   "pygments_lexer": "ipython3",
   "version": "3.11.1"
  },
  "orig_nbformat": 4
 },
 "nbformat": 4,
 "nbformat_minor": 2
}
