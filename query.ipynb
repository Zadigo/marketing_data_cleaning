{
 "cells": [
  {
   "cell_type": "markdown",
   "metadata": {},
   "source": [
    "## Query CSV files\n",
    "Query a set of CSV files by combining them into a single dataframe"
   ]
  },
  {
   "cell_type": "code",
   "execution_count": 2,
   "metadata": {},
   "outputs": [],
   "source": [
    "import pandas\n",
    "import pathlib\n",
    "from marketing_data_cleaning import DATA_FOLDER_PATH\n",
    "from unidecode import unidecode\n"
   ]
  },
  {
   "cell_type": "code",
   "execution_count": 3,
   "metadata": {},
   "outputs": [],
   "source": [
    "csv_files = list(pathlib.Path(DATA_FOLDER_PATH / 'db').glob('**/*.csv'))\n",
    "dfs = list(map(lambda x: pandas.read_csv(x), csv_files))"
   ]
  },
  {
   "cell_type": "code",
   "execution_count": 4,
   "metadata": {},
   "outputs": [],
   "source": [
    "df = pandas.concat(dfs)\n"
   ]
  },
  {
   "cell_type": "code",
   "execution_count": 5,
   "metadata": {},
   "outputs": [],
   "source": [
    "def clean_postes(value):\n",
    "    if value == '-':\n",
    "        return None\n",
    "    if value == '--':\n",
    "        return None\n",
    "    if value == \"\":\n",
    "        return None\n",
    "    result = unidecode(str(value))\n",
    "    return result.lower()\n",
    "\n",
    "position_df = pandas.DataFrame({'postes': []})\n",
    "position_df['postes'] = df['Poste'].apply(clean_postes)\n",
    "position_df['postes'].drop_duplicates(keep='first', inplace=True)\n",
    "position_df.sort_values('postes', inplace=True)\n",
    "position_df.to_csv(DATA_FOLDER_PATH / 'postes.csv', index=False, encoding='utf-8')\n"
   ]
  },
  {
   "cell_type": "code",
   "execution_count": 6,
   "metadata": {},
   "outputs": [
    {
     "data": {
      "text/html": [
       "<div>\n",
       "<style scoped>\n",
       "    .dataframe tbody tr th:only-of-type {\n",
       "        vertical-align: middle;\n",
       "    }\n",
       "\n",
       "    .dataframe tbody tr th {\n",
       "        vertical-align: top;\n",
       "    }\n",
       "\n",
       "    .dataframe thead th {\n",
       "        text-align: right;\n",
       "    }\n",
       "</style>\n",
       "<table border=\"1\" class=\"dataframe\">\n",
       "  <thead>\n",
       "    <tr style=\"text-align: right;\">\n",
       "      <th></th>\n",
       "      <th>LinkedIn</th>\n",
       "      <th>Civilité</th>\n",
       "      <th>Prénom</th>\n",
       "      <th>Nom</th>\n",
       "      <th>Nom complet</th>\n",
       "      <th>Poste</th>\n",
       "      <th>Entreprise</th>\n",
       "      <th>Company LinkedIn</th>\n",
       "      <th>Statut enrichissement</th>\n",
       "      <th>Email</th>\n",
       "      <th>Site entreprise</th>\n",
       "    </tr>\n",
       "  </thead>\n",
       "  <tbody>\n",
       "  </tbody>\n",
       "</table>\n",
       "</div>"
      ],
      "text/plain": [
       "Empty DataFrame\n",
       "Columns: [LinkedIn, Civilité, Prénom, Nom, Nom complet, Poste, Entreprise, Company LinkedIn, Statut enrichissement, Email, Site entreprise]\n",
       "Index: []"
      ]
     },
     "execution_count": 6,
     "metadata": {},
     "output_type": "execute_result"
    }
   ],
   "source": [
    "# df[df['Entreprise'] == 'B&M France']\n",
    "df['Poste'] = df['Poste'].apply(clean_postes)\n",
    "query = df[df['Entreprise'].str.contains('Pimkie', na=False)]\n",
    "# query = df[df['Poste'].str.contains('expansion', na=False)]\n",
    "query"
   ]
  },
  {
   "cell_type": "code",
   "execution_count": 18,
   "metadata": {},
   "outputs": [],
   "source": [
    "# df_for_airtable = query[['LinkedIn', 'Company LinkedIn', 'Site entreprise']]\n",
    "# df_for_airtable = df_for_airtable.rename(columns={'LinkedIn': 'linkedin', 'Company LinkedIn': 'company_linkedin', 'Site entreprise': 'website'})\n",
    "# df_for_airtable['linkedin'].describe()\n",
    "# df_for_airtable.to_csv(\n",
    "#     DATA_FOLDER_PATH / 'outputs/airtable_ready.csv', \n",
    "#     index=False\n",
    "# )\n"
   ]
  },
  {
   "cell_type": "code",
   "execution_count": null,
   "metadata": {},
   "outputs": [],
   "source": []
  }
 ],
 "metadata": {
  "kernelspec": {
   "display_name": "Python 3",
   "language": "python",
   "name": "python3"
  },
  "language_info": {
   "codemirror_mode": {
    "name": "ipython",
    "version": 3
   },
   "file_extension": ".py",
   "mimetype": "text/x-python",
   "name": "python",
   "nbconvert_exporter": "python",
   "pygments_lexer": "ipython3",
   "version": "3.11.1"
  },
  "orig_nbformat": 4
 },
 "nbformat": 4,
 "nbformat_minor": 2
}
