{
 "cells": [
  {
   "cell_type": "code",
   "execution_count": 22,
   "metadata": {},
   "outputs": [],
   "source": [
    "import requests\n",
    "from bs4 import BeautifulSoup\n",
    "from urllib.parse import urljoin\n"
   ]
  },
  {
   "cell_type": "code",
   "execution_count": 23,
   "metadata": {},
   "outputs": [],
   "source": [
    "response = requests.get(\n",
    "    'https://www.lcwaikiki.fr/fr-FR/FR/product-group/women?PageIndex=1',\n",
    "    headers={'user-agent': 'Mozilla/4.0 (compatible; MSIE 4.01; Windows 95)'},\n",
    "    proxies={\n",
    "        'http': '138.197.148.215:80'\n",
    "    }\n",
    ")\n"
   ]
  },
  {
   "cell_type": "code",
   "execution_count": 24,
   "metadata": {},
   "outputs": [],
   "source": [
    "soup = BeautifulSoup(response.content, 'html.parser')\n"
   ]
  },
  {
   "cell_type": "code",
   "execution_count": 25,
   "metadata": {},
   "outputs": [],
   "source": [
    "products = soup.find_all('div', attrs={'class': 'product-card'})\n"
   ]
  },
  {
   "cell_type": "code",
   "execution_count": 26,
   "metadata": {},
   "outputs": [
    {
     "data": {
      "text/plain": [
       "['/fr-FR/FR/product/LC-WAIKIKI/pourfemmes/Manteau-bouffant/6458471/3112564',\n",
       " '/fr-FR/FR/product/LC-WAIKIKI/pourfemmes/Manteau-bouffant/6458471/3112565',\n",
       " '/fr-FR/FR/product/LC-WAIKIKI/pourfemmes/Imperméables/6464830/3109084',\n",
       " '/fr-FR/FR/product/LC-WAIKIKI/pourfemmes//6440318/3129623',\n",
       " '/fr-FR/FR/product/LC-WAIKIKI/pourfemmes/Trench-coat/6502846/3169642',\n",
       " '/fr-FR/FR/product/LC-WAIKIKI/pourfemmes/Imperméables/6464830/3109083',\n",
       " '/fr-FR/FR/product/LC-WAIKIKI/pourfemmes/Manteau/6458555/3172375',\n",
       " '/fr-FR/FR/product/LC-WAIKIKI/pourfemmes/Manteau-bouffant/6470968/3165823',\n",
       " '/fr-FR/FR/product/LC-WAIKIKI/pourfemmes/Imperméables/6480195/3185426',\n",
       " '/fr-FR/FR/product/LC-WAIKIKI/pourfemmes/Veste/6807178/3304537',\n",
       " '/fr-FR/FR/product/LC-WAIKIKI/pourfemmes/Jean/6561178/3187660',\n",
       " '/fr-FR/FR/product/LC-WAIKIKI/pourfemmes/Béret/6742622/3192816',\n",
       " '/fr-FR/FR/product/LC-WAIKIKI/pourfemmes/Jean/6698880/3191271',\n",
       " '/fr-FR/FR/product/LC-WAIKIKI/pourfemmes/Robe/6541815/3187040',\n",
       " '/fr-FR/FR/product/LC-WAIKIKI/pourfemmes/Ensemble-de-pyjamas/6564433/3166233',\n",
       " '/fr-FR/FR/product/LC-WAIKIKI/pourfemmes/Jean/6503031/3185946',\n",
       " '/fr-FR/FR/product/LC-WAIKIKI/pourfemmes/Culotte/6565691/3214638',\n",
       " '/fr-FR/FR/product/LC-WAIKIKI/pourfemmes/Robe/6604780/3111613',\n",
       " '/fr-FR/FR/product/LC-WAIKIKI/pourfemmes/Jean/6561500/3187682',\n",
       " '/fr-FR/FR/product/LC-WAIKIKI/pourfemmes/Ensemble-de-pyjamas/6565036/3166234',\n",
       " '/fr-FR/FR/product/LCW-HOME/pourfemmes/Chaussons-de-maison/6557529/3174606',\n",
       " '/fr-FR/FR/product/LC-WAIKIKI/pourfemmes/Ensemble-de-pyjamas/6565028/3257198',\n",
       " '/fr-FR/FR/product/LC-WAIKIKI/pourfemmes/Culotte/6551542/3169696',\n",
       " '/fr-FR/FR/product/LC-WAIKIKI/pourfemmes/Ensemble-de-pyjamas/6477568/3185337',\n",
       " '/fr-FR/FR/product/LC-WAIKIKI/pourfemmes/Blouse/6841889/3166102',\n",
       " '/fr-FR/FR/product/LC-WAIKIKI/pourfemmes/Ensemble-de-pyjamas/6617492/3261009',\n",
       " '/fr-FR/FR/product/LC-WAIKIKI/pourfemmes/T-shirt/6589721/3188537',\n",
       " '/fr-FR/FR/product/LC-WAIKIKI/pourfemmes/T-shirt/6589721/3188536',\n",
       " '/fr-FR/FR/product/LC-WAIKIKI/pourfemmes/Chemise-de-nuit/6584676/3141563',\n",
       " '/fr-FR/FR/product/LC-WAIKIKI/pourfemmes/Culotte/6580750/3230087',\n",
       " '/fr-FR/FR/product/LC-WAIKIKI/pourfemmes/Culotte/6580683/3230080',\n",
       " '/fr-FR/FR/product/LC-WAIKIKI/pourfemmes/Culotte/6580690/3230081',\n",
       " '/fr-FR/FR/product/LC-WAIKIKI/pourfemmes/Jean/6719390/3192078',\n",
       " '/fr-FR/FR/product/LC-WAIKIKI/pourfemmes/Jean/6719390/3192079',\n",
       " '/fr-FR/FR/product/LC-WAIKIKI/pourfemmes/Jean/6573548/3163384',\n",
       " '/fr-FR/FR/product/LC-WAIKIKI/pourfemmes/Culotte/6573468/3169711',\n",
       " '/fr-FR/FR/product/LCW-HOME/pourfemmes/Chaussettes-de-maison/6546090/3169593',\n",
       " '/fr-FR/FR/product/LCW-HOME/pourfemmes/Chaussettes-de-maison/6546092/3169577',\n",
       " '/fr-FR/FR/product/LC-WAIKIKI/pourfemmes/Pantalon-de-survêtement/6870063/3304453',\n",
       " '/fr-FR/FR/product/LC-WAIKIKI/pourfemmes/Veste-blazer/6799474/3222652',\n",
       " '/fr-FR/FR/product/LC-WAIKIKI/pourfemmes/Jean/6561513/3068885',\n",
       " '/fr-FR/FR/product/LC-WAIKIKI/pourfemmes/Sac-à-main/6553427/3147276',\n",
       " '/fr-FR/FR/product/LC-WAIKIKI/pourfemmes/Robe/6595266/2984800',\n",
       " '/fr-FR/FR/product/LC-WAIKIKI/pourfemmes/Jean/6555835/3187499',\n",
       " '/fr-FR/FR/product/LC-WAIKIKI/pourfemmes/Ensemble-de-pyjamas/6617363/3257191',\n",
       " '/fr-FR/FR/product/LC-WAIKIKI/pourfemmes/Jean/6575489/3188223',\n",
       " '/fr-FR/FR/product/LC-WAIKIKI/pourfemmes/T-shirt/6573340/3188113',\n",
       " '/fr-FR/FR/product/LC-WAIKIKI/pourfemmes/Sac-à-dos/6539385/3186953']"
      ]
     },
     "execution_count": 26,
     "metadata": {},
     "output_type": "execute_result"
    }
   ],
   "source": [
    "[product.find_next('a')['href'] for product in products]\n"
   ]
  },
  {
   "cell_type": "code",
   "execution_count": 27,
   "metadata": {},
   "outputs": [],
   "source": [
    "response = requests.get(\n",
    "    'https://www.lcwaikiki.fr/fr-FR/FR/product/LCW-HOME/cuisine/Tablier-de-cuisine/6774668/3169887',\n",
    "    headers={'user-agent': 'Mozilla/4.0 (compatible; MSIE 4.01; Windows 95)'},\n",
    "    proxies={\n",
    "        'http': '138.197.148.215:80'\n",
    "    }\n",
    ")\n"
   ]
  },
  {
   "cell_type": "code",
   "execution_count": 28,
   "metadata": {},
   "outputs": [],
   "source": [
    "soup = BeautifulSoup(response.content, 'html.parser')\n",
    "xml_soup = soup = BeautifulSoup(response.content, 'lxml')\n"
   ]
  },
  {
   "cell_type": "code",
   "execution_count": 54,
   "metadata": {},
   "outputs": [
    {
     "data": {
      "text/plain": [
       "<div class=\"colors-area\">\n",
       "<a class=\"color-option active\" href=\"javascript:;\">\n",
       "<div class=\"color-box\">\n",
       "<div alt=\"Mix Printed\" class=\"lazy\" data-bg=\"https://img-lcwaikiki.mncdn.com/mnresize/48/-/pim/productimages/20202/6774668/v2/l_20202-w3fu88z8-f9c_u.jpg\" optionid=\"3169887\" title=\"Mix Printed\"></div>\n",
       "</div>\n",
       "<label class=\"color-label\"></label>\n",
       "</a>\n",
       "</div>"
      ]
     },
     "execution_count": 54,
     "metadata": {},
     "output_type": "execute_result"
    }
   ],
   "source": [
    "soup.select('h1[class=\"product-title seo\"]')[0].text.strip()\n",
    "\n",
    "soup.select('*[class=\"colors-area\"]')[0]\n"
   ]
  },
  {
   "cell_type": "code",
   "execution_count": null,
   "metadata": {},
   "outputs": [],
   "source": []
  }
 ],
 "metadata": {
  "kernelspec": {
   "display_name": "Python 3",
   "language": "python",
   "name": "python3"
  },
  "language_info": {
   "codemirror_mode": {
    "name": "ipython",
    "version": 3
   },
   "file_extension": ".py",
   "mimetype": "text/x-python",
   "name": "python",
   "nbconvert_exporter": "python",
   "pygments_lexer": "ipython3",
   "version": "3.11.1"
  }
 },
 "nbformat": 4,
 "nbformat_minor": 2
}
