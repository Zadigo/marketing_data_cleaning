{
 "cells": [
  {
   "cell_type": "code",
   "execution_count": 617,
   "metadata": {},
   "outputs": [],
   "source": [
    "import re\n",
    "import pandas\n",
    "import unidecode\n",
    "import os\n",
    "from marketing_data_cleaning import file_from_download_folder, DATA_FOLDER_PATH"
   ]
  },
  {
   "cell_type": "code",
   "execution_count": 618,
   "metadata": {},
   "outputs": [],
   "source": [
    "TITLES = ['Capitaine', 'Lieutenant de 1ère classe', 'Commandant', 'Colonel', 'Lieutenant',\n",
    "          'Capitaine', 'Lieutenant-Colonel', 'Médecin de classe normale', 'Colonel Hors-Classe',\n",
    "          'Lieutenant Hors-Classe', 'Médecin - Lieutenant - Colonel', 'Contrôleur Général', 'Pharmacien Hors-Classe',\n",
    "          'Infirmier', 'Pharmacien-Commandant', 'Médecin-Capitaine', 'Pharmacien 1ère classe', 'Médecin Hors-Classe',\n",
    "          'Médecin de classe exceptionnelle', 'Adjudant-Chef', 'Cadre de santé de SPP de 2ème classe',\n",
    "          'Médecin-Commandant', 'Infirmier de SPP de classe normale', 'Pharmacien de classe exceptionnelle',\n",
    "          'Sapeur 1ere classe', 'Infirmière Cheffe', 'Lieutenant de 2ème classe', 'Medecin-Colonel', \"Infirmier d'encadrement\", \n",
    "          'Vétérinaire-Capitaine', 'Vétérinaire - Commandant', 'Cadre Supérieur de Santé de SPP', 'Pharmacien Classe Normale', \n",
    "          'Pharmacien-Capitaine', 'Pharmacien Lieutenant-Colonel ', 'Officier Expert', 'Cadre de santé de SPP de 1ère classe', \n",
    "          'Sergent-Chef', 'Pharmacien Colonel', 'Vétérinaire', \"Infirmière d'encadrement\", \"Infirmier d'encadrement\",\n",
    "          'Infirmière Principale', 'Caporal-Chef ', 'Caporal']\n"
   ]
  },
  {
   "cell_type": "code",
   "execution_count": 619,
   "metadata": {},
   "outputs": [],
   "source": [
    "def normalize(value):\n",
    "    tokens = str(value).split(' ')\n",
    "    result = ' '.join(filter(lambda x: x != '', tokens))\n",
    "    return result.title().strip()"
   ]
  },
  {
   "cell_type": "code",
   "execution_count": 620,
   "metadata": {},
   "outputs": [],
   "source": [
    "df = pandas.read_csv(file_from_download_folder('sdis enrich.csv'), sep=';')\n"
   ]
  },
  {
   "cell_type": "markdown",
   "metadata": {},
   "source": [
    "Get the official title of the SDIS officer. First normalize the __Hors-Classe__ text which changes from position to position then get the true title for the officer by getting everything including the __Hors-Classe__"
   ]
  },
  {
   "cell_type": "code",
   "execution_count": 621,
   "metadata": {},
   "outputs": [],
   "source": [
    "df['fullname'] = df['fullname'].replace(regex={\n",
    "    r'[hH]ors(\\s|\\-)?[cC]lasse': 'Hors-Classe',\n",
    "    r'Medecin': 'Médecin',\n",
    "    r'colonel': 'Colonel',\n",
    "    r'\\s?-\\s?': '-',\n",
    "    r'chef': 'Chef',\n",
    "    r'[oO]fficier\\s[eE]xpert': 'Officier Expert'\n",
    "})\n"
   ]
  },
  {
   "cell_type": "code",
   "execution_count": 622,
   "metadata": {},
   "outputs": [],
   "source": [
    "df['has_classe'] = df['fullname'].map(lambda x: 'Classe' in x)"
   ]
  },
  {
   "cell_type": "markdown",
   "metadata": {},
   "source": [
    "Get the title regardless of the __Hors-Classe__ and then run a second filter if we missed the __Hors-Classe__ with the first filter"
   ]
  },
  {
   "cell_type": "code",
   "execution_count": 623,
   "metadata": {},
   "outputs": [],
   "source": [
    "MATCH_SEPARATOR = re.compile(r'^((?:Adjudant|Lieutenant|Commandant|Capitaine|Sergent|M[eé]decin|Infirmi[eè]re?|Vétérinaire|Contrôleur|Sapeur|Colonel|Caporal|Pharmacien|Général)\\-\\w+\\s?)')\n",
    "\n",
    "WITH_CLASSE = re.compile(r'^((?:Adjudant|Lieutenant|Commandant|Capitaine|Sergent|M[eé]decin|Infirmi[eè]re?|Vétérinaire|Contrôleur|Sapeur|Colonel|Caporal|Pharmacien|Général)\\s?Hors\\-Classe)')\n",
    "\n",
    "IS_NURSE = re.compile(r'^(Infirmi[eè]re?\\s(Principale?|Cheffe|Chef))')\n",
    "\n",
    "IS_EXPERT = re.compile(r'(Officier\\sExpert)')\n",
    "\n",
    "WITH_CLASSE2 = re.compile(r'^(\\w.*classe)\\s')\n",
    "\n",
    "MATCH_NO_SEPARATOR = re.compile(r'^((?:Adjudant|Lieutenant|Commandant|Capitaine|Sergent|M[eé]decin|Infirmi[eè]re?|Vétérinaire|Contrôleur|Sapeur|Colonel|Caporal|Pharmacien|Général)\\s?)')\n",
    "\n",
    "SPECIAL_CASE = re.compile(r'^(Contrôleur\\sGénéral|^[a-zA-Zé]+\\s?Chef|^[a-zA-Zé]+\\s?[dD]\\'encadrement)')\n",
    "\n",
    "def get_title(value):\n",
    "    if value is None:\n",
    "        return None\n",
    "    \n",
    "    if 'exceptionnelle' in value:\n",
    "        result = re.match(r'(^.*\\sexceptionnelle)', str(value))\n",
    "        if result:\n",
    "            return result.group(1)\n",
    "    \n",
    "    if 'de SPP' in value:\n",
    "        result = re.match(r'(^[a-zA-Z]+\\sde\\sSPP\\s.*Classe)', str(value))\n",
    "        if result:\n",
    "            return result.group(1)\n",
    "        \n",
    "    if 'classe normale' in value:\n",
    "        result = re.match(r'^(.*\\sclasse\\snormale)', str(value))\n",
    "        if result:\n",
    "            return result.group(1)\n",
    "    \n",
    "    result = re.match(r'^([a-zA-Zé]+\\-[a-zA-Zé]+\\-[a-zA-Zé]+)', str(value))\n",
    "    if result:\n",
    "        return result.group(1)\n",
    "    \n",
    "    result = IS_NURSE.match(str(value))\n",
    "    if result:\n",
    "        return result.group(1).strip()\n",
    "\n",
    "    result = IS_EXPERT.match(str(value))\n",
    "    if result:\n",
    "        return result.group(1).strip()\n",
    "\n",
    "    result = MATCH_SEPARATOR.match(str(value))\n",
    "    if result:\n",
    "        return result.group(1).strip()\n",
    "    \n",
    "    result = WITH_CLASSE.match(str(value))\n",
    "    if result:\n",
    "        return result.group(1).strip()\n",
    "    \n",
    "    result = WITH_CLASSE2.match(str(value))\n",
    "    if result:\n",
    "        return result.group(1).strip()\n",
    "    \n",
    "    result = SPECIAL_CASE.match(str(value))\n",
    "    if result:\n",
    "        return result.group(1).strip()\n",
    "    \n",
    "    result = MATCH_NO_SEPARATOR.match(str(value))\n",
    "    if result:\n",
    "        return result.group(1).strip()\n",
    "    return None\n",
    "\n",
    "df['title'] = df['fullname'].map(get_title)\n"
   ]
  },
  {
   "cell_type": "markdown",
   "metadata": {},
   "source": [
    "Use our guess from the title to remove the position from the _fullname_ column"
   ]
  },
  {
   "cell_type": "code",
   "execution_count": 624,
   "metadata": {},
   "outputs": [],
   "source": [
    "df['clean_fullname'] = None\n",
    "\n",
    "for index, s in df.iterrows():\n",
    "    if s.title:\n",
    "        df.loc[index, 'clean_fullname'] = df.loc[index, 'fullname'].replace(s.title, '').strip()\n",
    "    else:\n",
    "        df.loc[index, 'clean_fullname'] = normalize(df.loc[index, 'fullname']).lower().capitalize()"
   ]
  },
  {
   "cell_type": "markdown",
   "metadata": {},
   "source": [
    "From there we can get the officer's fullname"
   ]
  },
  {
   "cell_type": "code",
   "execution_count": 625,
   "metadata": {},
   "outputs": [],
   "source": [
    "df['firstname'] = None\n",
    "df['lastname'] = None\n",
    "\n",
    "def tokens(value, index=0):\n",
    "    result = str(value).rsplit(' ', maxsplit=1)[index]\n",
    "    return result.lower().title()\n",
    "\n",
    "for index, s in df.iterrows():\n",
    "    if s.clean_fullname is not None:\n",
    "        df.loc[index, 'firstname'] = tokens(s.clean_fullname, index=-1)\n",
    "        df.loc[index, 'lastname'] = tokens(s.clean_fullname)\n",
    "    else:\n",
    "        df.loc[index, 'firstname'] = tokens(s.fullname, index=-1)\n",
    "        df.loc[index, 'lastname'] = tokens(s.fullname)"
   ]
  },
  {
   "cell_type": "markdown",
   "metadata": {},
   "source": [
    "Get the SDIS number"
   ]
  },
  {
   "cell_type": "code",
   "execution_count": 626,
   "metadata": {},
   "outputs": [],
   "source": [
    "SDIS_NUMBER_REGEX = re.compile(r'(\\d+)')\n",
    "\n",
    "def get_sdis_number(value):\n",
    "    if value is None:\n",
    "        return None\n",
    "    result = SDIS_NUMBER_REGEX.search(str(value))\n",
    "    if result:\n",
    "        return result.group(1)\n",
    "    return value\n",
    "\n",
    "df['sdis_number'] = df['sdis'].map(get_sdis_number)"
   ]
  },
  {
   "cell_type": "code",
   "execution_count": 627,
   "metadata": {},
   "outputs": [
    {
     "data": {
      "text/html": [
       "<div>\n",
       "<style scoped>\n",
       "    .dataframe tbody tr th:only-of-type {\n",
       "        vertical-align: middle;\n",
       "    }\n",
       "\n",
       "    .dataframe tbody tr th {\n",
       "        vertical-align: top;\n",
       "    }\n",
       "\n",
       "    .dataframe thead th {\n",
       "        text-align: right;\n",
       "    }\n",
       "</style>\n",
       "<table border=\"1\" class=\"dataframe\">\n",
       "  <thead>\n",
       "    <tr style=\"text-align: right;\">\n",
       "      <th></th>\n",
       "      <th>fullname</th>\n",
       "      <th>url</th>\n",
       "      <th>sdis</th>\n",
       "      <th>level</th>\n",
       "      <th>officer_page</th>\n",
       "      <th>telephone</th>\n",
       "      <th>has_classe</th>\n",
       "      <th>title</th>\n",
       "      <th>clean_fullname</th>\n",
       "      <th>firstname</th>\n",
       "      <th>lastname</th>\n",
       "      <th>sdis_number</th>\n",
       "    </tr>\n",
       "  </thead>\n",
       "  <tbody>\n",
       "    <tr>\n",
       "      <th>9423</th>\n",
       "      <td>Commandant HAON Patrick</td>\n",
       "      <td>https://www.pompiercenter.com/annuaire-sdis/sd...</td>\n",
       "      <td>Organigramme SDIS 976 - Groupements fonctionne...</td>\n",
       "      <td>SPP</td>\n",
       "      <td>https://www.pompiercenter.com/fiche-pompier-ha...</td>\n",
       "      <td>02 69 63 94 73</td>\n",
       "      <td>False</td>\n",
       "      <td>Commandant</td>\n",
       "      <td>HAON Patrick</td>\n",
       "      <td>Patrick</td>\n",
       "      <td>Haon</td>\n",
       "      <td>976</td>\n",
       "    </tr>\n",
       "    <tr>\n",
       "      <th>9425</th>\n",
       "      <td>Contrôleur Général MARCHI-LECCIA Frédéric</td>\n",
       "      <td>https://www.pompiercenter.com/annuaire-sdis/sd...</td>\n",
       "      <td>Organigramme SDIS 988 - Groupements fonctionne...</td>\n",
       "      <td>SPP</td>\n",
       "      <td>https://www.pompiercenter.com/fiche-pompier-ma...</td>\n",
       "      <td>687-20.77.00</td>\n",
       "      <td>False</td>\n",
       "      <td>Contrôleur Général</td>\n",
       "      <td>MARCHI-LECCIA Frédéric</td>\n",
       "      <td>Frédéric</td>\n",
       "      <td>Marchi-Leccia</td>\n",
       "      <td>988</td>\n",
       "    </tr>\n",
       "    <tr>\n",
       "      <th>9426</th>\n",
       "      <td>Lieutenant BRASSEUR Manon</td>\n",
       "      <td>https://www.pompiercenter.com/annuaire-sdis/sd...</td>\n",
       "      <td>Organigramme SDIS 988 - Groupements fonctionne...</td>\n",
       "      <td>SPP</td>\n",
       "      <td>https://www.pompiercenter.com/fiche-pompier-br...</td>\n",
       "      <td>NaN</td>\n",
       "      <td>False</td>\n",
       "      <td>Lieutenant</td>\n",
       "      <td>BRASSEUR Manon</td>\n",
       "      <td>Manon</td>\n",
       "      <td>Brasseur</td>\n",
       "      <td>988</td>\n",
       "    </tr>\n",
       "    <tr>\n",
       "      <th>9428</th>\n",
       "      <td>Capitaine DELWICHE Patrick</td>\n",
       "      <td>https://www.pompiercenter.com/annuaire-sdis/sd...</td>\n",
       "      <td>Organigramme SDIS 988 - Groupements fonctionne...</td>\n",
       "      <td>SPP</td>\n",
       "      <td>https://www.pompiercenter.com/fiche-pompier-de...</td>\n",
       "      <td>NaN</td>\n",
       "      <td>False</td>\n",
       "      <td>Capitaine</td>\n",
       "      <td>DELWICHE Patrick</td>\n",
       "      <td>Patrick</td>\n",
       "      <td>Delwiche</td>\n",
       "      <td>988</td>\n",
       "    </tr>\n",
       "    <tr>\n",
       "      <th>9429</th>\n",
       "      <td>Capitaine ROSSIGNOL Alexandre</td>\n",
       "      <td>https://www.pompiercenter.com/annuaire-sdis/sd...</td>\n",
       "      <td>Organigramme SDIS 988 - Groupements fonctionne...</td>\n",
       "      <td>SPP</td>\n",
       "      <td>https://www.pompiercenter.com/fiche-pompier-ro...</td>\n",
       "      <td>00 687 78 72 28</td>\n",
       "      <td>False</td>\n",
       "      <td>Capitaine</td>\n",
       "      <td>ROSSIGNOL Alexandre</td>\n",
       "      <td>Alexandre</td>\n",
       "      <td>Rossignol</td>\n",
       "      <td>988</td>\n",
       "    </tr>\n",
       "  </tbody>\n",
       "</table>\n",
       "</div>"
      ],
      "text/plain": [
       "                                       fullname  \\\n",
       "9423                    Commandant HAON Patrick   \n",
       "9425  Contrôleur Général MARCHI-LECCIA Frédéric   \n",
       "9426                  Lieutenant BRASSEUR Manon   \n",
       "9428                 Capitaine DELWICHE Patrick   \n",
       "9429              Capitaine ROSSIGNOL Alexandre   \n",
       "\n",
       "                                                    url  \\\n",
       "9423  https://www.pompiercenter.com/annuaire-sdis/sd...   \n",
       "9425  https://www.pompiercenter.com/annuaire-sdis/sd...   \n",
       "9426  https://www.pompiercenter.com/annuaire-sdis/sd...   \n",
       "9428  https://www.pompiercenter.com/annuaire-sdis/sd...   \n",
       "9429  https://www.pompiercenter.com/annuaire-sdis/sd...   \n",
       "\n",
       "                                                   sdis level  \\\n",
       "9423  Organigramme SDIS 976 - Groupements fonctionne...   SPP   \n",
       "9425  Organigramme SDIS 988 - Groupements fonctionne...   SPP   \n",
       "9426  Organigramme SDIS 988 - Groupements fonctionne...   SPP   \n",
       "9428  Organigramme SDIS 988 - Groupements fonctionne...   SPP   \n",
       "9429  Organigramme SDIS 988 - Groupements fonctionne...   SPP   \n",
       "\n",
       "                                           officer_page        telephone  \\\n",
       "9423  https://www.pompiercenter.com/fiche-pompier-ha...   02 69 63 94 73   \n",
       "9425  https://www.pompiercenter.com/fiche-pompier-ma...     687-20.77.00   \n",
       "9426  https://www.pompiercenter.com/fiche-pompier-br...              NaN   \n",
       "9428  https://www.pompiercenter.com/fiche-pompier-de...              NaN   \n",
       "9429  https://www.pompiercenter.com/fiche-pompier-ro...  00 687 78 72 28   \n",
       "\n",
       "      has_classe               title          clean_fullname  firstname  \\\n",
       "9423       False          Commandant            HAON Patrick    Patrick   \n",
       "9425       False  Contrôleur Général  MARCHI-LECCIA Frédéric   Frédéric   \n",
       "9426       False          Lieutenant          BRASSEUR Manon      Manon   \n",
       "9428       False           Capitaine        DELWICHE Patrick    Patrick   \n",
       "9429       False           Capitaine     ROSSIGNOL Alexandre  Alexandre   \n",
       "\n",
       "           lastname sdis_number  \n",
       "9423           Haon         976  \n",
       "9425  Marchi-Leccia         988  \n",
       "9426       Brasseur         988  \n",
       "9428       Delwiche         988  \n",
       "9429      Rossignol         988  "
      ]
     },
     "execution_count": 627,
     "metadata": {},
     "output_type": "execute_result"
    }
   ],
   "source": [
    "df[~df['title'].isna()].tail()"
   ]
  },
  {
   "cell_type": "markdown",
   "metadata": {},
   "source": [
    "Some titles do not match and keep getting left in the name, they often start by a \"-\""
   ]
  },
  {
   "cell_type": "code",
   "execution_count": 628,
   "metadata": {},
   "outputs": [],
   "source": [
    "for index, s in df.iterrows():\n",
    "    if s.clean_fullname.startswith('-'):\n",
    "        result = re.search(r'^\\-(\\w+\\-\\w+)+', str(s.clean_fullname))\n",
    "        if result:\n",
    "            clean_name = re.sub(r'^\\-(\\w+\\-\\w+)+', ' ', str(s.clean_fullname))\n",
    "            df.loc[index, 'title'] = df.loc[index, 'title'] + result.group(0)\n",
    "            df.loc[index, 'clean_fullname'] = clean_name.strip()"
   ]
  },
  {
   "cell_type": "code",
   "execution_count": 629,
   "metadata": {},
   "outputs": [],
   "source": [
    "df['emails'] = None\n",
    "\n",
    "for index, s in df.iterrows():\n",
    "    firstname = unidecode.unidecode(s.firstname)\n",
    "    lastname = unidecode.unidecode(s.lastname)\n",
    "\n",
    "    email = f\"{firstname}.{lastname}@sdis{s.sdis_number}.fr\"\n",
    "    df.loc[index, 'emails'] = email.replace(' ', '').lower()\n"
   ]
  },
  {
   "cell_type": "code",
   "execution_count": 630,
   "metadata": {},
   "outputs": [],
   "source": [
    "df = df[['clean_fullname', 'title', 'firstname', 'lastname', 'sdis',\n",
    "         'sdis_number', 'officer_page', 'telephone', 'emails', 'level']]\n",
    "df = df.rename(columns={'clean_fullname': 'fullname'})"
   ]
  },
  {
   "cell_type": "code",
   "execution_count": 631,
   "metadata": {},
   "outputs": [],
   "source": [
    "df['fullname'] = df['fullname'].apply(normalize)"
   ]
  },
  {
   "cell_type": "code",
   "execution_count": 632,
   "metadata": {},
   "outputs": [],
   "source": [
    "df.to_csv(DATA_FOLDER_PATH / 'sdis.csv', encoding='utf-8', index=False)\n"
   ]
  }
 ],
 "metadata": {
  "kernelspec": {
   "display_name": "Python 3",
   "language": "python",
   "name": "python3"
  },
  "language_info": {
   "codemirror_mode": {
    "name": "ipython",
    "version": 3
   },
   "file_extension": ".py",
   "mimetype": "text/x-python",
   "name": "python",
   "nbconvert_exporter": "python",
   "pygments_lexer": "ipython3",
   "version": "3.11.1"
  },
  "orig_nbformat": 4
 },
 "nbformat": 4,
 "nbformat_minor": 2
}
