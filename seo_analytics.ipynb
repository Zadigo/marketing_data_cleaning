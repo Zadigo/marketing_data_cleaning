{
 "cells": [
  {
   "cell_type": "code",
   "execution_count": 345,
   "metadata": {},
   "outputs": [],
   "source": [
    "import nltk\n",
    "import requests\n",
    "import pandas\n",
    "from bs4 import BeautifulSoup\n",
    "from matplotlib import pyplot\n",
    "from wordcloud import WordCloud\n",
    "from nltk.stem import PorterStemmer\n",
    "from nltk.stem.snowball import SnowballStemmer\n",
    "\n",
    "from kryptone.utils.text import (clean_text, drop_null, normalize_spaces,\n",
    "                                 remove_punctuation)\n"
   ]
  },
  {
   "cell_type": "code",
   "execution_count": 330,
   "metadata": {},
   "outputs": [],
   "source": [
    "URL = 'http://gency313.fr/'\n"
   ]
  },
  {
   "cell_type": "markdown",
   "metadata": {},
   "source": [
    "Ge the website's content and eliminate tags such as scripts to get a clean perfect text"
   ]
  },
  {
   "cell_type": "code",
   "execution_count": 331,
   "metadata": {},
   "outputs": [],
   "source": [
    "response = requests.get(URL)\n"
   ]
  },
  {
   "cell_type": "code",
   "execution_count": 332,
   "metadata": {},
   "outputs": [],
   "source": [
    "soup = BeautifulSoup(response.content, 'html.parser')\n",
    "removed_scripts = [tag.extract() for tag in soup.find_all('script')]\n"
   ]
  },
  {
   "cell_type": "code",
   "execution_count": 333,
   "metadata": {},
   "outputs": [],
   "source": [
    "tokenizer = nltk.tokenize.LineTokenizer()\n",
    "tokens = tokenizer.tokenize(soup.text)\n",
    "\n",
    "text = ' '.join(tokens)\n",
    "text = remove_punctuation(text)\n",
    "\n",
    "tokenizer = nltk.tokenize.SpaceTokenizer()\n",
    "tokens = tokenizer.tokenize(text)\n",
    "tokens = list((token for token in tokens if token != ''))\n"
   ]
  },
  {
   "cell_type": "code",
   "execution_count": 334,
   "metadata": {},
   "outputs": [],
   "source": [
    "tokens = list((token.lower() for token in tokens))\n"
   ]
  },
  {
   "cell_type": "markdown",
   "metadata": {},
   "source": [
    "Longest word in french is not more than 30 characters. So remoeve words that are longer than this"
   ]
  },
  {
   "cell_type": "code",
   "execution_count": 335,
   "metadata": {},
   "outputs": [],
   "source": [
    "tokens = list(filter(lambda x: len(x) <= 30, tokens))\n"
   ]
  },
  {
   "cell_type": "code",
   "execution_count": 336,
   "metadata": {},
   "outputs": [
    {
     "data": {
      "text/plain": [
       "'accélérateur de croissance pour votre entreprise gency313 gency313 accueil apps expertise à propos débloquez votre croissance nous vous aidons à booster votre trafic à améliorer votre taux de conversion et à atteindre vos objectifs de croissance grâce à notre agence spécialisée en growth marketing nous contacter agence growth marketing optimiser votre croissance avec un stratégie multicanal perdez moins de temps à optimiser votre site web optimisez le seo de votre site web notamment avec la maximisation de la recherche google à travers le copywriting avec le perfectionnement de vos mots clés faites un audit complet et augmentez considérablement votre nombre de prospects ainsi que vos chances daugmenter vos taux de conversion optimiser mon seo votre entreprise travail pour vous tout simplement des process automatisés qui simplifient votre vie et celle et de vos employés vous consacrerez ainsi plus de temps à satisfaire les désirs de vos clients automatiser mon entreprise consacrez plus de temps à votre coeur de métier en déléguant une partie de vos activités dacquisition client ou de growth marketing vous pourrez trouver du temps supplémentaire pour prendre soin de vos clients obtenir plus de clients une présence numérique accrue une croissance améliorée obtenez plus dopportunités de vente et de marketing en renforçant votre crédibilité visàvis de votre public en améliorant considérablement votre stratégie seo vous pourrez aussi communiquez éfficacement analyser et suivre comment les clients interagissent avec votre entreprise découvrir nos outils notre actualité restez informer sur lactualité du seo et du growth marketing aucun article na encore été posté sur notre blog lire plus gency313 gency313 permet au petite et moyenne entreprises datteindre leur potentiel de croissance en facilitant les processus dacquisition client use cases marketing ventes management ressources utiles blog growth hacking seo analytics et tracking automatisation faq centre daide a propos qui sommes nous nous contacter données personnelles politiques de confidentialité plan du site'"
      ]
     },
     "execution_count": 336,
     "metadata": {},
     "output_type": "execute_result"
    }
   ],
   "source": [
    "clean_original_text = ' '.join(tokens)\n",
    "clean_original_text\n"
   ]
  },
  {
   "cell_type": "code",
   "execution_count": 337,
   "metadata": {},
   "outputs": [],
   "source": [
    "with open('data/stop_words_french.txt', mode='r', encoding='utf-8') as f:\n",
    "    stop_words = f.read().split('\\n')\n",
    "clean_tokens = list((token for token in tokens if token not in stop_words))\n"
   ]
  },
  {
   "cell_type": "code",
   "execution_count": 338,
   "metadata": {},
   "outputs": [
    {
     "data": {
      "text/plain": [
       "'accélérateur croissance entreprise gency313 gency313 accueil apps expertise propos débloquez croissance aidons booster trafic améliorer taux conversion atteindre objectifs croissance grâce agence spécialisée growth marketing contacter agence growth marketing optimiser croissance stratégie multicanal perdez temps optimiser site web optimisez seo site web notamment maximisation recherche google travers copywriting perfectionnement mots clés audit complet augmentez considérablement nombre prospects chances daugmenter taux conversion optimiser seo entreprise travail simplement process automatisés simplifient vie employés consacrerez temps satisfaire désirs clients automatiser entreprise consacrez temps coeur métier déléguant partie activités dacquisition client growth marketing pourrez trouver temps supplémentaire prendre soin clients obtenir clients présence numérique accrue croissance améliorée obtenez dopportunités vente marketing renforçant crédibilité visàvis public améliorant considérablement stratégie seo pourrez communiquez éfficacement analyser suivre clients interagissent entreprise découvrir outils actualité restez informer lactualité seo growth marketing article posté blog lire gency313 gency313 permet petite moyenne entreprises datteindre potentiel croissance facilitant processus dacquisition client use cases marketing ventes management ressources utiles blog growth hacking seo analytics tracking automatisation faq centre daide propos sommes contacter données personnelles politiques confidentialité plan site'"
      ]
     },
     "execution_count": 338,
     "metadata": {},
     "output_type": "execute_result"
    }
   ],
   "source": [
    "' '.join(clean_tokens)\n"
   ]
  },
  {
   "cell_type": "code",
   "execution_count": 394,
   "metadata": {},
   "outputs": [],
   "source": [
    "frequency = nltk.FreqDist(clean_tokens)\n",
    "frequency_values = list(frequency.items())\n",
    "sorted_frequency = sorted(\n",
    "    frequency_values,\n",
    "    key=lambda x: x[1],\n",
    "    reverse=True\n",
    ")[0:10]\n"
   ]
  },
  {
   "cell_type": "code",
   "execution_count": 343,
   "metadata": {},
   "outputs": [
    {
     "name": "stderr",
     "output_type": "stream",
     "text": [
      "No artists with labels found to put in legend.  Note that artists whose label start with an underscore are ignored when legend() is called with no argument.\n"
     ]
    },
    {
     "data": {
      "text/plain": [
       "<Figure size 640x480 with 0 Axes>"
      ]
     },
     "metadata": {},
     "output_type": "display_data"
    },
    {
     "data": {
      "image/png": "[encoded data removed]",
      "text/plain": [
       "<Figure size 1500x600 with 1 Axes>"
      ]
     },
     "metadata": {},
     "output_type": "display_data"
    }
   ],
   "source": [
    "import matplotlib\n",
    "\n",
    "\n",
    "x = [x[0] for x in sorted_frequency]\n",
    "y = [x[1] for x in sorted_frequency]\n",
    "\n",
    "fig = pyplot.figure()\n",
    "fig, axes = pyplot.subplots(figsize=[15, 6])\n",
    "axes.set_xlabel('Words')\n",
    "axes.set_ylabel('Count')\n",
    "axes.set_title('Number of words')\n",
    "axes.tick_params(which='major', width=1.00, length=5)\n",
    "# axes.text(20, 35, 'Some text')\n",
    "# axes.annotate('Something', xy=[30, 40], xytext=[14, 31], arrowprops={\n",
    "#               'facecolor': 'black', 'shrink': 0.05})\n",
    "# axes.set_xticks([0, 30, 70, 100])\n",
    "axes.legend()\n",
    "# axes.plot(x, y, 'o', label='words')\n",
    "axes.bar(x, y, color='b')\n",
    "# fig.savefig('word_distribution')\n"
   ]
  },
  {
   "cell_type": "code",
   "execution_count": 341,
   "metadata": {},
   "outputs": [],
   "source": [
    "stemmer = SnowballStemmer('french')\n",
    "stemmed_words = [stemmer.stem(word=word) for word in clean_tokens]\n"
   ]
  },
  {
   "cell_type": "code",
   "execution_count": 1,
   "metadata": {},
   "outputs": [],
   "source": [
    "# wordcloud = WordCloud()\n",
    "# wordcloud.generate_from_frequencies(frequency)\n",
    "\n",
    "# fig = pyplot.figure(figsize=[10, 10])\n",
    "# pyplot.imshow(wordcloud)\n",
    "# pyplot.axis('off')\n",
    "# pyplot.show()\n",
    "# fig.savefig('word_frequency')\n"
   ]
  },
  {
   "cell_type": "markdown",
   "metadata": {},
   "source": [
    "Other additional SEO analysis"
   ]
  },
  {
   "cell_type": "code",
   "execution_count": 359,
   "metadata": {},
   "outputs": [
    {
     "data": {
      "text/html": [
       "<div>\n",
       "<style scoped>\n",
       "    .dataframe tbody tr th:only-of-type {\n",
       "        vertical-align: middle;\n",
       "    }\n",
       "\n",
       "    .dataframe tbody tr th {\n",
       "        vertical-align: top;\n",
       "    }\n",
       "\n",
       "    .dataframe thead th {\n",
       "        text-align: right;\n",
       "    }\n",
       "</style>\n",
       "<table border=\"1\" class=\"dataframe\">\n",
       "  <thead>\n",
       "    <tr style=\"text-align: right;\">\n",
       "      <th></th>\n",
       "      <th>words</th>\n",
       "      <th>count</th>\n",
       "    </tr>\n",
       "  </thead>\n",
       "  <tbody>\n",
       "    <tr>\n",
       "      <th>1</th>\n",
       "      <td>croissance</td>\n",
       "      <td>6</td>\n",
       "    </tr>\n",
       "    <tr>\n",
       "      <th>21</th>\n",
       "      <td>marketing</td>\n",
       "      <td>6</td>\n",
       "    </tr>\n",
       "    <tr>\n",
       "      <th>31</th>\n",
       "      <td>seo</td>\n",
       "      <td>5</td>\n",
       "    </tr>\n",
       "    <tr>\n",
       "      <th>20</th>\n",
       "      <td>growth</td>\n",
       "      <td>5</td>\n",
       "    </tr>\n",
       "    <tr>\n",
       "      <th>2</th>\n",
       "      <td>entreprise</td>\n",
       "      <td>4</td>\n",
       "    </tr>\n",
       "  </tbody>\n",
       "</table>\n",
       "</div>"
      ],
      "text/plain": [
       "         words  count\n",
       "1   croissance      6\n",
       "21   marketing      6\n",
       "31         seo      5\n",
       "20      growth      5\n",
       "2   entreprise      4"
      ]
     },
     "execution_count": 359,
     "metadata": {},
     "output_type": "execute_result"
    }
   ],
   "source": [
    "# data = {\n",
    "#     'words': list(frequency.keys()),\n",
    "#     'count': list(frequency.values())\n",
    "# }\n",
    "# df = pandas.DataFrame(data)\n",
    "# df = df.sort_values('count', ascending=False)\n",
    "# df.head()\n"
   ]
  },
  {
   "cell_type": "code",
   "execution_count": 362,
   "metadata": {},
   "outputs": [],
   "source": [
    "from sklearn.feature_extraction.text import TfidfTransformer\n",
    "from sklearn.feature_extraction.text import TfidfVectorizer\n",
    "from sklearn.model_selection import train_test_split\n"
   ]
  },
  {
   "cell_type": "code",
   "execution_count": 368,
   "metadata": {},
   "outputs": [],
   "source": [
    "X_train, X_test, y_train, y_test = train_test_split(df[['words', 'count']], df['count'])\n"
   ]
  },
  {
   "cell_type": "code",
   "execution_count": 369,
   "metadata": {},
   "outputs": [
    {
     "name": "stdout",
     "output_type": "stream",
     "text": [
      "(2, 2) (2, 2)\n"
     ]
    }
   ],
   "source": [
    "vectorizer = TfidfVectorizer()\n",
    "train_vectors = vectorizer.fit_transform(X_train)\n",
    "test_vectors = vectorizer.transform(X_test)\n",
    "print(train_vectors.shape, test_vectors.shape)\n"
   ]
  },
  {
   "cell_type": "code",
   "execution_count": 373,
   "metadata": {},
   "outputs": [],
   "source": [
    "from sklearn.naive_bayes import MultinomialNB\n",
    "from sklearn.metrics import accuracy_score\n"
   ]
  },
  {
   "cell_type": "code",
   "execution_count": 372,
   "metadata": {},
   "outputs": [],
   "source": [
    "model = MultinomialNB()\n"
   ]
  },
  {
   "cell_type": "code",
   "execution_count": null,
   "metadata": {},
   "outputs": [],
   "source": [
    "model.fit(train_vectors, y_train)\n"
   ]
  },
  {
   "cell_type": "code",
   "execution_count": null,
   "metadata": {},
   "outputs": [],
   "source": [
    "prediction = model.predict(test_vectors)\n",
    "print(accuracy_score(y_test, prediction))\n"
   ]
  },
  {
   "cell_type": "code",
   "execution_count": 390,
   "metadata": {},
   "outputs": [
    {
     "name": "stdout",
     "output_type": "stream",
     "text": [
      "called\n",
      "[0, 1, 2, 3, 4, 5, 6, 7, 8, 9, 10, 11, 12, 13, 14, 15, 16, 17, 18, 19, 20, 21, 22, 23, 24, 25, 26, 27, 28, 29, 30, 31, 32, 33, 34, 35, 36, 37, 38, 39, 40, 41, 42, 43, 44, 45, 46, 47, 48, 49, 50, 51, 52, 53, 54, 55, 56, 57, 58, 59, 60, 61, 62, 63, 64, 65, 66, 67, 68, 69, 70, 71, 72, 73, 74, 75, 76, 77, 78, 79, 80, 81, 82, 83, 84, 85, 86, 87, 88, 89, 90, 91, 92, 93, 94, 95, 96, 97, 98, 99]\n"
     ]
    }
   ],
   "source": [
    "from functools import lru_cache\n",
    "\n",
    "@lru_cache(maxsize=200)\n",
    "def test():\n",
    "    print('called')\n",
    "    return [x for x in range(100)]\n",
    "\n",
    "print(test())\n"
   ]
  }
 ],
 "metadata": {
  "kernelspec": {
   "display_name": "Python 3",
   "language": "python",
   "name": "python3"
  },
  "language_info": {
   "codemirror_mode": {
    "name": "ipython",
    "version": 3
   },
   "file_extension": ".py",
   "mimetype": "text/x-python",
   "name": "python",
   "nbconvert_exporter": "python",
   "pygments_lexer": "ipython3",
   "version": "3.11.1"
  }
 },
 "nbformat": 4,
 "nbformat_minor": 2
}
