{
 "cells": [
  {
   "cell_type": "markdown",
   "metadata": {},
   "source": [
    "## Airtable\n",
    "Adapts Dropcontact CSV file to an Airtable CSV formatted one in order to be either uploaded or send via Airtable API"
   ]
  },
  {
   "cell_type": "code",
   "execution_count": 2,
   "metadata": {},
   "outputs": [],
   "source": [
    "import os\n",
    "import pandas\n",
    "import airtable\n",
    "from marketing_data_cleaning import DATA_FOLDER_PATH"
   ]
  },
  {
   "cell_type": "code",
   "execution_count": 3,
   "metadata": {},
   "outputs": [],
   "source": [
    "instance = airtable.Airtable(\n",
    "    os.getenv('AIRTABLE_BASE_ID'),\n",
    "    os.getenv('SCRAPING_TABLE_NAME'),\n",
    "    os.getenv('AIRTABLE_API_KEY')\n",
    ")\n"
   ]
  },
  {
   "cell_type": "code",
   "execution_count": 4,
   "metadata": {},
   "outputs": [
    {
     "ename": "NameError",
     "evalue": "name 'df' is not defined",
     "output_type": "error",
     "traceback": [
      "\u001b[1;31m---------------------------------------------------------------------------\u001b[0m",
      "\u001b[1;31mNameError\u001b[0m                                 Traceback (most recent call last)",
      "\u001b[1;32mz:\\- RESPONSABLE DIGITAL\\SCRIPTS\\marketing_data_cleaning\\to_airtable.ipynb Cell 4\u001b[0m line \u001b[0;36m1\n\u001b[0;32m      <a href='vscode-notebook-cell:/z%3A/-%20RESPONSABLE%20DIGITAL/SCRIPTS/marketing_data_cleaning/to_airtable.ipynb#W6sZmlsZQ%3D%3D?line=0'>1</a>\u001b[0m CONVERSION_COLUMNS \u001b[39m=\u001b[39m {\n\u001b[0;32m      <a href='vscode-notebook-cell:/z%3A/-%20RESPONSABLE%20DIGITAL/SCRIPTS/marketing_data_cleaning/to_airtable.ipynb#W6sZmlsZQ%3D%3D?line=1'>2</a>\u001b[0m     \u001b[39m'\u001b[39m\u001b[39mfirst_name\u001b[39m\u001b[39m'\u001b[39m: \u001b[39m'\u001b[39m\u001b[39mPrénom\u001b[39m\u001b[39m'\u001b[39m,\n\u001b[0;32m      <a href='vscode-notebook-cell:/z%3A/-%20RESPONSABLE%20DIGITAL/SCRIPTS/marketing_data_cleaning/to_airtable.ipynb#W6sZmlsZQ%3D%3D?line=2'>3</a>\u001b[0m     \u001b[39m'\u001b[39m\u001b[39mlast_name\u001b[39m\u001b[39m'\u001b[39m: \u001b[39m'\u001b[39m\u001b[39mNom\u001b[39m\u001b[39m'\u001b[39m,\n\u001b[1;32m   (...)\u001b[0m\n\u001b[0;32m     <a href='vscode-notebook-cell:/z%3A/-%20RESPONSABLE%20DIGITAL/SCRIPTS/marketing_data_cleaning/to_airtable.ipynb#W6sZmlsZQ%3D%3D?line=9'>10</a>\u001b[0m     \u001b[39m'\u001b[39m\u001b[39mposition\u001b[39m\u001b[39m'\u001b[39m: \u001b[39m'\u001b[39m\u001b[39mPoste\u001b[39m\u001b[39m'\u001b[39m\n\u001b[0;32m     <a href='vscode-notebook-cell:/z%3A/-%20RESPONSABLE%20DIGITAL/SCRIPTS/marketing_data_cleaning/to_airtable.ipynb#W6sZmlsZQ%3D%3D?line=10'>11</a>\u001b[0m }\n\u001b[1;32m---> <a href='vscode-notebook-cell:/z%3A/-%20RESPONSABLE%20DIGITAL/SCRIPTS/marketing_data_cleaning/to_airtable.ipynb#W6sZmlsZQ%3D%3D?line=11'>12</a>\u001b[0m airtable_df \u001b[39m=\u001b[39m df\u001b[39m.\u001b[39mrename(columns\u001b[39m=\u001b[39mCONVERSION_COLUMNS)\n",
      "\u001b[1;31mNameError\u001b[0m: name 'df' is not defined"
     ]
    }
   ],
   "source": [
    "CONVERSION_COLUMNS = {\n",
    "    'first_name': 'Prénom',\n",
    "    'last_name': 'Nom',\n",
    "    'company': 'Entreprise',\n",
    "    'linkedin': 'LinkedIn',\n",
    "    'full_name': 'Nom complet',\n",
    "    'company_linkedin': 'Company LinkedIn',\n",
    "    'enriched': 'Statut enrichissement',\n",
    "    'website': 'Site entreprise',\n",
    "    'position': 'Poste'\n",
    "}\n",
    "airtable_df = df.rename(columns=CONVERSION_COLUMNS)\n"
   ]
  },
  {
   "cell_type": "code",
   "execution_count": null,
   "metadata": {},
   "outputs": [],
   "source": []
  }
 ],
 "metadata": {
  "kernelspec": {
   "display_name": "Python 3",
   "language": "python",
   "name": "python3"
  },
  "language_info": {
   "codemirror_mode": {
    "name": "ipython",
    "version": 3
   },
   "file_extension": ".py",
   "mimetype": "text/x-python",
   "name": "python",
   "nbconvert_exporter": "python",
   "pygments_lexer": "ipython3",
   "version": "3.11.1"
  },
  "orig_nbformat": 4
 },
 "nbformat": 4,
 "nbformat_minor": 2
}
